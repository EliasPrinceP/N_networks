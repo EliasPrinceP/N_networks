{
  "nbformat": 4,
  "nbformat_minor": 0,
  "metadata": {
    "colab": {
      "provenance": [],
      "authorship_tag": "ABX9TyOVCV8aulvGMt4UgQDvGvbs",
      "include_colab_link": true
    },
    "kernelspec": {
      "name": "python3",
      "display_name": "Python 3"
    },
    "language_info": {
      "name": "python"
    }
  },
  "cells": [
    {
      "cell_type": "markdown",
      "metadata": {
        "id": "view-in-github",
        "colab_type": "text"
      },
      "source": [
        "<a href=\"https://colab.research.google.com/github/EliasPrinceP/N_networks/blob/master/E-Commerce%20(Project).ipynb\" target=\"_parent\"><img src=\"https://colab.research.google.com/assets/colab-badge.svg\" alt=\"Open In Colab\"/></a>"
      ]
    },
    {
      "cell_type": "markdown",
      "source": [
        "**E-Commerce Shipping Data**\n",
        "\n",
        "\n",
        "\n"
      ],
      "metadata": {
        "id": "Rnu2BIwgPMi7"
      }
    },
    {
      "cell_type": "markdown",
      "source": [
        "\n",
        "\n",
        "**An international e-commerce firm seeks to glean vital information from its consumer database.** **They intend to research their clients using some of the most modern machine learning techniques.** **The firm sells electronic goods.**"
      ],
      "metadata": {
        "id": "uHjFUBd9O8lk"
      }
    },
    {
      "cell_type": "markdown",
      "source": [
        "Importing Required Libraries for Execution"
      ],
      "metadata": {
        "id": "VB7ZPVYCPwxi"
      }
    },
    {
      "cell_type": "code",
      "execution_count": 1,
      "metadata": {
        "id": "SWTagoMExBuB"
      },
      "outputs": [],
      "source": [
        "import pandas as pd\n",
        "import numpy as np\n",
        "from sklearn.preprocessing import StandardScaler\n",
        "from sklearn.preprocessing import LabelEncoder\n",
        "import seaborn as sns\n",
        "import matplotlib.pyplot as plt\n",
        "from sklearn.model_selection import train_test_split\n",
        "from sklearn.neighbors import KNeighborsClassifier\n",
        "from sklearn.svm import SVC\n",
        "from sklearn.naive_bayes import BernoulliNB\n",
        "from sklearn.ensemble import RandomForestClassifier\n",
        "from imblearn.combine import SMOTEENN\n",
        "from sklearn.metrics import accuracy_score\n",
        "from sklearn.decomposition import PCA\n"
      ]
    },
    {
      "cell_type": "markdown",
      "source": [
        "Dataset Loading"
      ],
      "metadata": {
        "id": "dw6QFcEoP6hU"
      }
    },
    {
      "cell_type": "code",
      "source": [
        "df=pd.read_csv('/content/Train.csv')\n",
        "df"
      ],
      "metadata": {
        "colab": {
          "base_uri": "https://localhost:8080/",
          "height": 423
        },
        "id": "10o85f4tNNsJ",
        "outputId": "696bf394-b879-443b-ab16-521f3adc8453"
      },
      "execution_count": 2,
      "outputs": [
        {
          "output_type": "execute_result",
          "data": {
            "text/plain": [
              "          ID Warehouse_block Mode_of_Shipment  Customer_care_calls  \\\n",
              "0          1               D           Flight                    4   \n",
              "1          2               F           Flight                    4   \n",
              "2          3               A           Flight                    2   \n",
              "3          4               B           Flight                    3   \n",
              "4          5               C           Flight                    2   \n",
              "...      ...             ...              ...                  ...   \n",
              "10994  10995               A             Ship                    4   \n",
              "10995  10996               B             Ship                    4   \n",
              "10996  10997               C             Ship                    5   \n",
              "10997  10998               F             Ship                    5   \n",
              "10998  10999               D             Ship                    2   \n",
              "\n",
              "       Customer_rating  Cost_of_the_Product  Prior_purchases  \\\n",
              "0                    2                  177                3   \n",
              "1                    5                  216                2   \n",
              "2                    2                  183                4   \n",
              "3                    3                  176                4   \n",
              "4                    2                  184                3   \n",
              "...                ...                  ...              ...   \n",
              "10994                1                  252                5   \n",
              "10995                1                  232                5   \n",
              "10996                4                  242                5   \n",
              "10997                2                  223                6   \n",
              "10998                5                  155                5   \n",
              "\n",
              "      Product_importance Gender  Discount_offered  Weight_in_gms  \\\n",
              "0                    low      F                44           1233   \n",
              "1                    low      M                59           3088   \n",
              "2                    low      M                48           3374   \n",
              "3                 medium      M                10           1177   \n",
              "4                 medium      F                46           2484   \n",
              "...                  ...    ...               ...            ...   \n",
              "10994             medium      F                 1           1538   \n",
              "10995             medium      F                 6           1247   \n",
              "10996                low      F                 4           1155   \n",
              "10997             medium      M                 2           1210   \n",
              "10998                low      F                 6           1639   \n",
              "\n",
              "       Reached.on.Time_Y.N  \n",
              "0                        1  \n",
              "1                        1  \n",
              "2                        1  \n",
              "3                        1  \n",
              "4                        1  \n",
              "...                    ...  \n",
              "10994                    1  \n",
              "10995                    0  \n",
              "10996                    0  \n",
              "10997                    0  \n",
              "10998                    0  \n",
              "\n",
              "[10999 rows x 12 columns]"
            ],
            "text/html": [
              "\n",
              "  <div id=\"df-1bddb55d-244a-4ce2-bc57-a53f5718d615\">\n",
              "    <div class=\"colab-df-container\">\n",
              "      <div>\n",
              "<style scoped>\n",
              "    .dataframe tbody tr th:only-of-type {\n",
              "        vertical-align: middle;\n",
              "    }\n",
              "\n",
              "    .dataframe tbody tr th {\n",
              "        vertical-align: top;\n",
              "    }\n",
              "\n",
              "    .dataframe thead th {\n",
              "        text-align: right;\n",
              "    }\n",
              "</style>\n",
              "<table border=\"1\" class=\"dataframe\">\n",
              "  <thead>\n",
              "    <tr style=\"text-align: right;\">\n",
              "      <th></th>\n",
              "      <th>ID</th>\n",
              "      <th>Warehouse_block</th>\n",
              "      <th>Mode_of_Shipment</th>\n",
              "      <th>Customer_care_calls</th>\n",
              "      <th>Customer_rating</th>\n",
              "      <th>Cost_of_the_Product</th>\n",
              "      <th>Prior_purchases</th>\n",
              "      <th>Product_importance</th>\n",
              "      <th>Gender</th>\n",
              "      <th>Discount_offered</th>\n",
              "      <th>Weight_in_gms</th>\n",
              "      <th>Reached.on.Time_Y.N</th>\n",
              "    </tr>\n",
              "  </thead>\n",
              "  <tbody>\n",
              "    <tr>\n",
              "      <th>0</th>\n",
              "      <td>1</td>\n",
              "      <td>D</td>\n",
              "      <td>Flight</td>\n",
              "      <td>4</td>\n",
              "      <td>2</td>\n",
              "      <td>177</td>\n",
              "      <td>3</td>\n",
              "      <td>low</td>\n",
              "      <td>F</td>\n",
              "      <td>44</td>\n",
              "      <td>1233</td>\n",
              "      <td>1</td>\n",
              "    </tr>\n",
              "    <tr>\n",
              "      <th>1</th>\n",
              "      <td>2</td>\n",
              "      <td>F</td>\n",
              "      <td>Flight</td>\n",
              "      <td>4</td>\n",
              "      <td>5</td>\n",
              "      <td>216</td>\n",
              "      <td>2</td>\n",
              "      <td>low</td>\n",
              "      <td>M</td>\n",
              "      <td>59</td>\n",
              "      <td>3088</td>\n",
              "      <td>1</td>\n",
              "    </tr>\n",
              "    <tr>\n",
              "      <th>2</th>\n",
              "      <td>3</td>\n",
              "      <td>A</td>\n",
              "      <td>Flight</td>\n",
              "      <td>2</td>\n",
              "      <td>2</td>\n",
              "      <td>183</td>\n",
              "      <td>4</td>\n",
              "      <td>low</td>\n",
              "      <td>M</td>\n",
              "      <td>48</td>\n",
              "      <td>3374</td>\n",
              "      <td>1</td>\n",
              "    </tr>\n",
              "    <tr>\n",
              "      <th>3</th>\n",
              "      <td>4</td>\n",
              "      <td>B</td>\n",
              "      <td>Flight</td>\n",
              "      <td>3</td>\n",
              "      <td>3</td>\n",
              "      <td>176</td>\n",
              "      <td>4</td>\n",
              "      <td>medium</td>\n",
              "      <td>M</td>\n",
              "      <td>10</td>\n",
              "      <td>1177</td>\n",
              "      <td>1</td>\n",
              "    </tr>\n",
              "    <tr>\n",
              "      <th>4</th>\n",
              "      <td>5</td>\n",
              "      <td>C</td>\n",
              "      <td>Flight</td>\n",
              "      <td>2</td>\n",
              "      <td>2</td>\n",
              "      <td>184</td>\n",
              "      <td>3</td>\n",
              "      <td>medium</td>\n",
              "      <td>F</td>\n",
              "      <td>46</td>\n",
              "      <td>2484</td>\n",
              "      <td>1</td>\n",
              "    </tr>\n",
              "    <tr>\n",
              "      <th>...</th>\n",
              "      <td>...</td>\n",
              "      <td>...</td>\n",
              "      <td>...</td>\n",
              "      <td>...</td>\n",
              "      <td>...</td>\n",
              "      <td>...</td>\n",
              "      <td>...</td>\n",
              "      <td>...</td>\n",
              "      <td>...</td>\n",
              "      <td>...</td>\n",
              "      <td>...</td>\n",
              "      <td>...</td>\n",
              "    </tr>\n",
              "    <tr>\n",
              "      <th>10994</th>\n",
              "      <td>10995</td>\n",
              "      <td>A</td>\n",
              "      <td>Ship</td>\n",
              "      <td>4</td>\n",
              "      <td>1</td>\n",
              "      <td>252</td>\n",
              "      <td>5</td>\n",
              "      <td>medium</td>\n",
              "      <td>F</td>\n",
              "      <td>1</td>\n",
              "      <td>1538</td>\n",
              "      <td>1</td>\n",
              "    </tr>\n",
              "    <tr>\n",
              "      <th>10995</th>\n",
              "      <td>10996</td>\n",
              "      <td>B</td>\n",
              "      <td>Ship</td>\n",
              "      <td>4</td>\n",
              "      <td>1</td>\n",
              "      <td>232</td>\n",
              "      <td>5</td>\n",
              "      <td>medium</td>\n",
              "      <td>F</td>\n",
              "      <td>6</td>\n",
              "      <td>1247</td>\n",
              "      <td>0</td>\n",
              "    </tr>\n",
              "    <tr>\n",
              "      <th>10996</th>\n",
              "      <td>10997</td>\n",
              "      <td>C</td>\n",
              "      <td>Ship</td>\n",
              "      <td>5</td>\n",
              "      <td>4</td>\n",
              "      <td>242</td>\n",
              "      <td>5</td>\n",
              "      <td>low</td>\n",
              "      <td>F</td>\n",
              "      <td>4</td>\n",
              "      <td>1155</td>\n",
              "      <td>0</td>\n",
              "    </tr>\n",
              "    <tr>\n",
              "      <th>10997</th>\n",
              "      <td>10998</td>\n",
              "      <td>F</td>\n",
              "      <td>Ship</td>\n",
              "      <td>5</td>\n",
              "      <td>2</td>\n",
              "      <td>223</td>\n",
              "      <td>6</td>\n",
              "      <td>medium</td>\n",
              "      <td>M</td>\n",
              "      <td>2</td>\n",
              "      <td>1210</td>\n",
              "      <td>0</td>\n",
              "    </tr>\n",
              "    <tr>\n",
              "      <th>10998</th>\n",
              "      <td>10999</td>\n",
              "      <td>D</td>\n",
              "      <td>Ship</td>\n",
              "      <td>2</td>\n",
              "      <td>5</td>\n",
              "      <td>155</td>\n",
              "      <td>5</td>\n",
              "      <td>low</td>\n",
              "      <td>F</td>\n",
              "      <td>6</td>\n",
              "      <td>1639</td>\n",
              "      <td>0</td>\n",
              "    </tr>\n",
              "  </tbody>\n",
              "</table>\n",
              "<p>10999 rows × 12 columns</p>\n",
              "</div>\n",
              "      <button class=\"colab-df-convert\" onclick=\"convertToInteractive('df-1bddb55d-244a-4ce2-bc57-a53f5718d615')\"\n",
              "              title=\"Convert this dataframe to an interactive table.\"\n",
              "              style=\"display:none;\">\n",
              "        \n",
              "  <svg xmlns=\"http://www.w3.org/2000/svg\" height=\"24px\"viewBox=\"0 0 24 24\"\n",
              "       width=\"24px\">\n",
              "    <path d=\"M0 0h24v24H0V0z\" fill=\"none\"/>\n",
              "    <path d=\"M18.56 5.44l.94 2.06.94-2.06 2.06-.94-2.06-.94-.94-2.06-.94 2.06-2.06.94zm-11 1L8.5 8.5l.94-2.06 2.06-.94-2.06-.94L8.5 2.5l-.94 2.06-2.06.94zm10 10l.94 2.06.94-2.06 2.06-.94-2.06-.94-.94-2.06-.94 2.06-2.06.94z\"/><path d=\"M17.41 7.96l-1.37-1.37c-.4-.4-.92-.59-1.43-.59-.52 0-1.04.2-1.43.59L10.3 9.45l-7.72 7.72c-.78.78-.78 2.05 0 2.83L4 21.41c.39.39.9.59 1.41.59.51 0 1.02-.2 1.41-.59l7.78-7.78 2.81-2.81c.8-.78.8-2.07 0-2.86zM5.41 20L4 18.59l7.72-7.72 1.47 1.35L5.41 20z\"/>\n",
              "  </svg>\n",
              "      </button>\n",
              "      \n",
              "  <style>\n",
              "    .colab-df-container {\n",
              "      display:flex;\n",
              "      flex-wrap:wrap;\n",
              "      gap: 12px;\n",
              "    }\n",
              "\n",
              "    .colab-df-convert {\n",
              "      background-color: #E8F0FE;\n",
              "      border: none;\n",
              "      border-radius: 50%;\n",
              "      cursor: pointer;\n",
              "      display: none;\n",
              "      fill: #1967D2;\n",
              "      height: 32px;\n",
              "      padding: 0 0 0 0;\n",
              "      width: 32px;\n",
              "    }\n",
              "\n",
              "    .colab-df-convert:hover {\n",
              "      background-color: #E2EBFA;\n",
              "      box-shadow: 0px 1px 2px rgba(60, 64, 67, 0.3), 0px 1px 3px 1px rgba(60, 64, 67, 0.15);\n",
              "      fill: #174EA6;\n",
              "    }\n",
              "\n",
              "    [theme=dark] .colab-df-convert {\n",
              "      background-color: #3B4455;\n",
              "      fill: #D2E3FC;\n",
              "    }\n",
              "\n",
              "    [theme=dark] .colab-df-convert:hover {\n",
              "      background-color: #434B5C;\n",
              "      box-shadow: 0px 1px 3px 1px rgba(0, 0, 0, 0.15);\n",
              "      filter: drop-shadow(0px 1px 2px rgba(0, 0, 0, 0.3));\n",
              "      fill: #FFFFFF;\n",
              "    }\n",
              "  </style>\n",
              "\n",
              "      <script>\n",
              "        const buttonEl =\n",
              "          document.querySelector('#df-1bddb55d-244a-4ce2-bc57-a53f5718d615 button.colab-df-convert');\n",
              "        buttonEl.style.display =\n",
              "          google.colab.kernel.accessAllowed ? 'block' : 'none';\n",
              "\n",
              "        async function convertToInteractive(key) {\n",
              "          const element = document.querySelector('#df-1bddb55d-244a-4ce2-bc57-a53f5718d615');\n",
              "          const dataTable =\n",
              "            await google.colab.kernel.invokeFunction('convertToInteractive',\n",
              "                                                     [key], {});\n",
              "          if (!dataTable) return;\n",
              "\n",
              "          const docLinkHtml = 'Like what you see? Visit the ' +\n",
              "            '<a target=\"_blank\" href=https://colab.research.google.com/notebooks/data_table.ipynb>data table notebook</a>'\n",
              "            + ' to learn more about interactive tables.';\n",
              "          element.innerHTML = '';\n",
              "          dataTable['output_type'] = 'display_data';\n",
              "          await google.colab.output.renderOutput(dataTable, element);\n",
              "          const docLink = document.createElement('div');\n",
              "          docLink.innerHTML = docLinkHtml;\n",
              "          element.appendChild(docLink);\n",
              "        }\n",
              "      </script>\n",
              "    </div>\n",
              "  </div>\n",
              "  "
            ]
          },
          "metadata": {},
          "execution_count": 2
        }
      ]
    },
    {
      "cell_type": "markdown",
      "source": [
        "**DATA ANALYSIS**"
      ],
      "metadata": {
        "id": "XUs6x4wpZcck"
      }
    },
    {
      "cell_type": "code",
      "source": [
        "df['Mode_of_Shipment'].value_counts()"
      ],
      "metadata": {
        "colab": {
          "base_uri": "https://localhost:8080/"
        },
        "id": "ovxVoyy0ZAtU",
        "outputId": "60219a76-3bd9-4639-beef-81f7181dd15f"
      },
      "execution_count": 3,
      "outputs": [
        {
          "output_type": "execute_result",
          "data": {
            "text/plain": [
              "Ship      7462\n",
              "Flight    1777\n",
              "Road      1760\n",
              "Name: Mode_of_Shipment, dtype: int64"
            ]
          },
          "metadata": {},
          "execution_count": 3
        }
      ]
    },
    {
      "cell_type": "code",
      "source": [
        "df['Warehouse_block'].value_counts()"
      ],
      "metadata": {
        "colab": {
          "base_uri": "https://localhost:8080/"
        },
        "id": "wIwB4lrqZF_F",
        "outputId": "53d2f4c0-7b6d-4d42-9240-59bb714dab9f"
      },
      "execution_count": 4,
      "outputs": [
        {
          "output_type": "execute_result",
          "data": {
            "text/plain": [
              "F    3666\n",
              "D    1834\n",
              "A    1833\n",
              "B    1833\n",
              "C    1833\n",
              "Name: Warehouse_block, dtype: int64"
            ]
          },
          "metadata": {},
          "execution_count": 4
        }
      ]
    },
    {
      "cell_type": "code",
      "source": [
        "df['Product_importance'].value_counts()"
      ],
      "metadata": {
        "colab": {
          "base_uri": "https://localhost:8080/"
        },
        "id": "ZzrwJz4KZQ6M",
        "outputId": "186c2107-4d43-4a07-853f-4e7fd3c0e315"
      },
      "execution_count": 5,
      "outputs": [
        {
          "output_type": "execute_result",
          "data": {
            "text/plain": [
              "low       5297\n",
              "medium    4754\n",
              "high       948\n",
              "Name: Product_importance, dtype: int64"
            ]
          },
          "metadata": {},
          "execution_count": 5
        }
      ]
    },
    {
      "cell_type": "code",
      "source": [
        "df.info()"
      ],
      "metadata": {
        "colab": {
          "base_uri": "https://localhost:8080/"
        },
        "id": "3oWdWijlYT-I",
        "outputId": "b3ab15b6-1690-44ee-e577-a972911244c2"
      },
      "execution_count": 6,
      "outputs": [
        {
          "output_type": "stream",
          "name": "stdout",
          "text": [
            "<class 'pandas.core.frame.DataFrame'>\n",
            "RangeIndex: 10999 entries, 0 to 10998\n",
            "Data columns (total 12 columns):\n",
            " #   Column               Non-Null Count  Dtype \n",
            "---  ------               --------------  ----- \n",
            " 0   ID                   10999 non-null  int64 \n",
            " 1   Warehouse_block      10999 non-null  object\n",
            " 2   Mode_of_Shipment     10999 non-null  object\n",
            " 3   Customer_care_calls  10999 non-null  int64 \n",
            " 4   Customer_rating      10999 non-null  int64 \n",
            " 5   Cost_of_the_Product  10999 non-null  int64 \n",
            " 6   Prior_purchases      10999 non-null  int64 \n",
            " 7   Product_importance   10999 non-null  object\n",
            " 8   Gender               10999 non-null  object\n",
            " 9   Discount_offered     10999 non-null  int64 \n",
            " 10  Weight_in_gms        10999 non-null  int64 \n",
            " 11  Reached.on.Time_Y.N  10999 non-null  int64 \n",
            "dtypes: int64(8), object(4)\n",
            "memory usage: 1.0+ MB\n"
          ]
        }
      ]
    },
    {
      "cell_type": "markdown",
      "source": [
        "**DATA PROCESSING**\n",
        "\n",
        "\n",
        "\n"
      ],
      "metadata": {
        "id": "Uekk1hFBZ6oX"
      }
    },
    {
      "cell_type": "code",
      "source": [
        "df.isna().sum()"
      ],
      "metadata": {
        "colab": {
          "base_uri": "https://localhost:8080/"
        },
        "id": "0IoI6I1pxtmQ",
        "outputId": "fd16ac9b-9aff-4863-c6f9-433e1be99b4b"
      },
      "execution_count": 7,
      "outputs": [
        {
          "output_type": "execute_result",
          "data": {
            "text/plain": [
              "ID                     0\n",
              "Warehouse_block        0\n",
              "Mode_of_Shipment       0\n",
              "Customer_care_calls    0\n",
              "Customer_rating        0\n",
              "Cost_of_the_Product    0\n",
              "Prior_purchases        0\n",
              "Product_importance     0\n",
              "Gender                 0\n",
              "Discount_offered       0\n",
              "Weight_in_gms          0\n",
              "Reached.on.Time_Y.N    0\n",
              "dtype: int64"
            ]
          },
          "metadata": {},
          "execution_count": 7
        }
      ]
    },
    {
      "cell_type": "code",
      "source": [
        "df.dtypes"
      ],
      "metadata": {
        "colab": {
          "base_uri": "https://localhost:8080/"
        },
        "id": "BmCLHDUEx5KW",
        "outputId": "01523e31-16b1-4374-c9b4-83bf875eeb7b"
      },
      "execution_count": 8,
      "outputs": [
        {
          "output_type": "execute_result",
          "data": {
            "text/plain": [
              "ID                      int64\n",
              "Warehouse_block        object\n",
              "Mode_of_Shipment       object\n",
              "Customer_care_calls     int64\n",
              "Customer_rating         int64\n",
              "Cost_of_the_Product     int64\n",
              "Prior_purchases         int64\n",
              "Product_importance     object\n",
              "Gender                 object\n",
              "Discount_offered        int64\n",
              "Weight_in_gms           int64\n",
              "Reached.on.Time_Y.N     int64\n",
              "dtype: object"
            ]
          },
          "metadata": {},
          "execution_count": 8
        }
      ]
    },
    {
      "cell_type": "code",
      "source": [
        "df.shape"
      ],
      "metadata": {
        "colab": {
          "base_uri": "https://localhost:8080/"
        },
        "id": "bpaS_xw8x9yq",
        "outputId": "8d75a12c-d915-4ee0-ae3c-17b6b5baa91c"
      },
      "execution_count": 9,
      "outputs": [
        {
          "output_type": "execute_result",
          "data": {
            "text/plain": [
              "(10999, 12)"
            ]
          },
          "metadata": {},
          "execution_count": 9
        }
      ]
    },
    {
      "cell_type": "markdown",
      "source": [
        "Performing **LabelEncoder**"
      ],
      "metadata": {
        "id": "ig65EHZMQc-t"
      }
    },
    {
      "cell_type": "code",
      "source": [
        "le=LabelEncoder()\n",
        "lst=['Gender','Product_importance','Warehouse_block','Mode_of_Shipment']\n",
        "for i in lst:\n",
        "  df[i]=le.fit_transform(df[i])"
      ],
      "metadata": {
        "id": "QUE6dp2HyGIm"
      },
      "execution_count": 10,
      "outputs": []
    },
    {
      "cell_type": "code",
      "source": [
        "df.dtypes"
      ],
      "metadata": {
        "colab": {
          "base_uri": "https://localhost:8080/"
        },
        "id": "4kJ44iqu0m_b",
        "outputId": "b9c1b410-a4c1-4294-c892-d5ffe6d95db4"
      },
      "execution_count": 11,
      "outputs": [
        {
          "output_type": "execute_result",
          "data": {
            "text/plain": [
              "ID                     int64\n",
              "Warehouse_block        int64\n",
              "Mode_of_Shipment       int64\n",
              "Customer_care_calls    int64\n",
              "Customer_rating        int64\n",
              "Cost_of_the_Product    int64\n",
              "Prior_purchases        int64\n",
              "Product_importance     int64\n",
              "Gender                 int64\n",
              "Discount_offered       int64\n",
              "Weight_in_gms          int64\n",
              "Reached.on.Time_Y.N    int64\n",
              "dtype: object"
            ]
          },
          "metadata": {},
          "execution_count": 11
        }
      ]
    },
    {
      "cell_type": "markdown",
      "source": [
        "Droping unwanted features"
      ],
      "metadata": {
        "id": "50R7xWoQaMqG"
      }
    },
    {
      "cell_type": "code",
      "source": [
        "df.drop(labels=['ID'],axis=1,inplace=True)"
      ],
      "metadata": {
        "id": "tXBUsd_kaQPW"
      },
      "execution_count": 12,
      "outputs": []
    },
    {
      "cell_type": "markdown",
      "source": [
        "Separating X and Y variables"
      ],
      "metadata": {
        "id": "xpWPSgxRQm4V"
      }
    },
    {
      "cell_type": "code",
      "source": [
        "X=df.iloc[:,:-1]\n",
        "X"
      ],
      "metadata": {
        "colab": {
          "base_uri": "https://localhost:8080/",
          "height": 423
        },
        "id": "FKOFK6mT0pEK",
        "outputId": "490f313a-52fe-487b-baa4-cd120b50b31c"
      },
      "execution_count": 13,
      "outputs": [
        {
          "output_type": "execute_result",
          "data": {
            "text/plain": [
              "       Warehouse_block  Mode_of_Shipment  Customer_care_calls  \\\n",
              "0                    3                 0                    4   \n",
              "1                    4                 0                    4   \n",
              "2                    0                 0                    2   \n",
              "3                    1                 0                    3   \n",
              "4                    2                 0                    2   \n",
              "...                ...               ...                  ...   \n",
              "10994                0                 2                    4   \n",
              "10995                1                 2                    4   \n",
              "10996                2                 2                    5   \n",
              "10997                4                 2                    5   \n",
              "10998                3                 2                    2   \n",
              "\n",
              "       Customer_rating  Cost_of_the_Product  Prior_purchases  \\\n",
              "0                    2                  177                3   \n",
              "1                    5                  216                2   \n",
              "2                    2                  183                4   \n",
              "3                    3                  176                4   \n",
              "4                    2                  184                3   \n",
              "...                ...                  ...              ...   \n",
              "10994                1                  252                5   \n",
              "10995                1                  232                5   \n",
              "10996                4                  242                5   \n",
              "10997                2                  223                6   \n",
              "10998                5                  155                5   \n",
              "\n",
              "       Product_importance  Gender  Discount_offered  Weight_in_gms  \n",
              "0                       1       0                44           1233  \n",
              "1                       1       1                59           3088  \n",
              "2                       1       1                48           3374  \n",
              "3                       2       1                10           1177  \n",
              "4                       2       0                46           2484  \n",
              "...                   ...     ...               ...            ...  \n",
              "10994                   2       0                 1           1538  \n",
              "10995                   2       0                 6           1247  \n",
              "10996                   1       0                 4           1155  \n",
              "10997                   2       1                 2           1210  \n",
              "10998                   1       0                 6           1639  \n",
              "\n",
              "[10999 rows x 10 columns]"
            ],
            "text/html": [
              "\n",
              "  <div id=\"df-84b2d802-bde2-45f3-a8dc-3fbebf3cd770\">\n",
              "    <div class=\"colab-df-container\">\n",
              "      <div>\n",
              "<style scoped>\n",
              "    .dataframe tbody tr th:only-of-type {\n",
              "        vertical-align: middle;\n",
              "    }\n",
              "\n",
              "    .dataframe tbody tr th {\n",
              "        vertical-align: top;\n",
              "    }\n",
              "\n",
              "    .dataframe thead th {\n",
              "        text-align: right;\n",
              "    }\n",
              "</style>\n",
              "<table border=\"1\" class=\"dataframe\">\n",
              "  <thead>\n",
              "    <tr style=\"text-align: right;\">\n",
              "      <th></th>\n",
              "      <th>Warehouse_block</th>\n",
              "      <th>Mode_of_Shipment</th>\n",
              "      <th>Customer_care_calls</th>\n",
              "      <th>Customer_rating</th>\n",
              "      <th>Cost_of_the_Product</th>\n",
              "      <th>Prior_purchases</th>\n",
              "      <th>Product_importance</th>\n",
              "      <th>Gender</th>\n",
              "      <th>Discount_offered</th>\n",
              "      <th>Weight_in_gms</th>\n",
              "    </tr>\n",
              "  </thead>\n",
              "  <tbody>\n",
              "    <tr>\n",
              "      <th>0</th>\n",
              "      <td>3</td>\n",
              "      <td>0</td>\n",
              "      <td>4</td>\n",
              "      <td>2</td>\n",
              "      <td>177</td>\n",
              "      <td>3</td>\n",
              "      <td>1</td>\n",
              "      <td>0</td>\n",
              "      <td>44</td>\n",
              "      <td>1233</td>\n",
              "    </tr>\n",
              "    <tr>\n",
              "      <th>1</th>\n",
              "      <td>4</td>\n",
              "      <td>0</td>\n",
              "      <td>4</td>\n",
              "      <td>5</td>\n",
              "      <td>216</td>\n",
              "      <td>2</td>\n",
              "      <td>1</td>\n",
              "      <td>1</td>\n",
              "      <td>59</td>\n",
              "      <td>3088</td>\n",
              "    </tr>\n",
              "    <tr>\n",
              "      <th>2</th>\n",
              "      <td>0</td>\n",
              "      <td>0</td>\n",
              "      <td>2</td>\n",
              "      <td>2</td>\n",
              "      <td>183</td>\n",
              "      <td>4</td>\n",
              "      <td>1</td>\n",
              "      <td>1</td>\n",
              "      <td>48</td>\n",
              "      <td>3374</td>\n",
              "    </tr>\n",
              "    <tr>\n",
              "      <th>3</th>\n",
              "      <td>1</td>\n",
              "      <td>0</td>\n",
              "      <td>3</td>\n",
              "      <td>3</td>\n",
              "      <td>176</td>\n",
              "      <td>4</td>\n",
              "      <td>2</td>\n",
              "      <td>1</td>\n",
              "      <td>10</td>\n",
              "      <td>1177</td>\n",
              "    </tr>\n",
              "    <tr>\n",
              "      <th>4</th>\n",
              "      <td>2</td>\n",
              "      <td>0</td>\n",
              "      <td>2</td>\n",
              "      <td>2</td>\n",
              "      <td>184</td>\n",
              "      <td>3</td>\n",
              "      <td>2</td>\n",
              "      <td>0</td>\n",
              "      <td>46</td>\n",
              "      <td>2484</td>\n",
              "    </tr>\n",
              "    <tr>\n",
              "      <th>...</th>\n",
              "      <td>...</td>\n",
              "      <td>...</td>\n",
              "      <td>...</td>\n",
              "      <td>...</td>\n",
              "      <td>...</td>\n",
              "      <td>...</td>\n",
              "      <td>...</td>\n",
              "      <td>...</td>\n",
              "      <td>...</td>\n",
              "      <td>...</td>\n",
              "    </tr>\n",
              "    <tr>\n",
              "      <th>10994</th>\n",
              "      <td>0</td>\n",
              "      <td>2</td>\n",
              "      <td>4</td>\n",
              "      <td>1</td>\n",
              "      <td>252</td>\n",
              "      <td>5</td>\n",
              "      <td>2</td>\n",
              "      <td>0</td>\n",
              "      <td>1</td>\n",
              "      <td>1538</td>\n",
              "    </tr>\n",
              "    <tr>\n",
              "      <th>10995</th>\n",
              "      <td>1</td>\n",
              "      <td>2</td>\n",
              "      <td>4</td>\n",
              "      <td>1</td>\n",
              "      <td>232</td>\n",
              "      <td>5</td>\n",
              "      <td>2</td>\n",
              "      <td>0</td>\n",
              "      <td>6</td>\n",
              "      <td>1247</td>\n",
              "    </tr>\n",
              "    <tr>\n",
              "      <th>10996</th>\n",
              "      <td>2</td>\n",
              "      <td>2</td>\n",
              "      <td>5</td>\n",
              "      <td>4</td>\n",
              "      <td>242</td>\n",
              "      <td>5</td>\n",
              "      <td>1</td>\n",
              "      <td>0</td>\n",
              "      <td>4</td>\n",
              "      <td>1155</td>\n",
              "    </tr>\n",
              "    <tr>\n",
              "      <th>10997</th>\n",
              "      <td>4</td>\n",
              "      <td>2</td>\n",
              "      <td>5</td>\n",
              "      <td>2</td>\n",
              "      <td>223</td>\n",
              "      <td>6</td>\n",
              "      <td>2</td>\n",
              "      <td>1</td>\n",
              "      <td>2</td>\n",
              "      <td>1210</td>\n",
              "    </tr>\n",
              "    <tr>\n",
              "      <th>10998</th>\n",
              "      <td>3</td>\n",
              "      <td>2</td>\n",
              "      <td>2</td>\n",
              "      <td>5</td>\n",
              "      <td>155</td>\n",
              "      <td>5</td>\n",
              "      <td>1</td>\n",
              "      <td>0</td>\n",
              "      <td>6</td>\n",
              "      <td>1639</td>\n",
              "    </tr>\n",
              "  </tbody>\n",
              "</table>\n",
              "<p>10999 rows × 10 columns</p>\n",
              "</div>\n",
              "      <button class=\"colab-df-convert\" onclick=\"convertToInteractive('df-84b2d802-bde2-45f3-a8dc-3fbebf3cd770')\"\n",
              "              title=\"Convert this dataframe to an interactive table.\"\n",
              "              style=\"display:none;\">\n",
              "        \n",
              "  <svg xmlns=\"http://www.w3.org/2000/svg\" height=\"24px\"viewBox=\"0 0 24 24\"\n",
              "       width=\"24px\">\n",
              "    <path d=\"M0 0h24v24H0V0z\" fill=\"none\"/>\n",
              "    <path d=\"M18.56 5.44l.94 2.06.94-2.06 2.06-.94-2.06-.94-.94-2.06-.94 2.06-2.06.94zm-11 1L8.5 8.5l.94-2.06 2.06-.94-2.06-.94L8.5 2.5l-.94 2.06-2.06.94zm10 10l.94 2.06.94-2.06 2.06-.94-2.06-.94-.94-2.06-.94 2.06-2.06.94z\"/><path d=\"M17.41 7.96l-1.37-1.37c-.4-.4-.92-.59-1.43-.59-.52 0-1.04.2-1.43.59L10.3 9.45l-7.72 7.72c-.78.78-.78 2.05 0 2.83L4 21.41c.39.39.9.59 1.41.59.51 0 1.02-.2 1.41-.59l7.78-7.78 2.81-2.81c.8-.78.8-2.07 0-2.86zM5.41 20L4 18.59l7.72-7.72 1.47 1.35L5.41 20z\"/>\n",
              "  </svg>\n",
              "      </button>\n",
              "      \n",
              "  <style>\n",
              "    .colab-df-container {\n",
              "      display:flex;\n",
              "      flex-wrap:wrap;\n",
              "      gap: 12px;\n",
              "    }\n",
              "\n",
              "    .colab-df-convert {\n",
              "      background-color: #E8F0FE;\n",
              "      border: none;\n",
              "      border-radius: 50%;\n",
              "      cursor: pointer;\n",
              "      display: none;\n",
              "      fill: #1967D2;\n",
              "      height: 32px;\n",
              "      padding: 0 0 0 0;\n",
              "      width: 32px;\n",
              "    }\n",
              "\n",
              "    .colab-df-convert:hover {\n",
              "      background-color: #E2EBFA;\n",
              "      box-shadow: 0px 1px 2px rgba(60, 64, 67, 0.3), 0px 1px 3px 1px rgba(60, 64, 67, 0.15);\n",
              "      fill: #174EA6;\n",
              "    }\n",
              "\n",
              "    [theme=dark] .colab-df-convert {\n",
              "      background-color: #3B4455;\n",
              "      fill: #D2E3FC;\n",
              "    }\n",
              "\n",
              "    [theme=dark] .colab-df-convert:hover {\n",
              "      background-color: #434B5C;\n",
              "      box-shadow: 0px 1px 3px 1px rgba(0, 0, 0, 0.15);\n",
              "      filter: drop-shadow(0px 1px 2px rgba(0, 0, 0, 0.3));\n",
              "      fill: #FFFFFF;\n",
              "    }\n",
              "  </style>\n",
              "\n",
              "      <script>\n",
              "        const buttonEl =\n",
              "          document.querySelector('#df-84b2d802-bde2-45f3-a8dc-3fbebf3cd770 button.colab-df-convert');\n",
              "        buttonEl.style.display =\n",
              "          google.colab.kernel.accessAllowed ? 'block' : 'none';\n",
              "\n",
              "        async function convertToInteractive(key) {\n",
              "          const element = document.querySelector('#df-84b2d802-bde2-45f3-a8dc-3fbebf3cd770');\n",
              "          const dataTable =\n",
              "            await google.colab.kernel.invokeFunction('convertToInteractive',\n",
              "                                                     [key], {});\n",
              "          if (!dataTable) return;\n",
              "\n",
              "          const docLinkHtml = 'Like what you see? Visit the ' +\n",
              "            '<a target=\"_blank\" href=https://colab.research.google.com/notebooks/data_table.ipynb>data table notebook</a>'\n",
              "            + ' to learn more about interactive tables.';\n",
              "          element.innerHTML = '';\n",
              "          dataTable['output_type'] = 'display_data';\n",
              "          await google.colab.output.renderOutput(dataTable, element);\n",
              "          const docLink = document.createElement('div');\n",
              "          docLink.innerHTML = docLinkHtml;\n",
              "          element.appendChild(docLink);\n",
              "        }\n",
              "      </script>\n",
              "    </div>\n",
              "  </div>\n",
              "  "
            ]
          },
          "metadata": {},
          "execution_count": 13
        }
      ]
    },
    {
      "cell_type": "code",
      "source": [
        "y=df.iloc[:,-1]\n",
        "y"
      ],
      "metadata": {
        "colab": {
          "base_uri": "https://localhost:8080/"
        },
        "id": "uGv--gAO03Qp",
        "outputId": "9cd872a1-c353-4214-db69-6950766575fd"
      },
      "execution_count": 14,
      "outputs": [
        {
          "output_type": "execute_result",
          "data": {
            "text/plain": [
              "0        1\n",
              "1        1\n",
              "2        1\n",
              "3        1\n",
              "4        1\n",
              "        ..\n",
              "10994    1\n",
              "10995    0\n",
              "10996    0\n",
              "10997    0\n",
              "10998    0\n",
              "Name: Reached.on.Time_Y.N, Length: 10999, dtype: int64"
            ]
          },
          "metadata": {},
          "execution_count": 14
        }
      ]
    },
    {
      "cell_type": "markdown",
      "source": [
        "**DATA VISUALIZATION**"
      ],
      "metadata": {
        "id": "ANXeInLwX2Zw"
      }
    },
    {
      "cell_type": "markdown",
      "source": [
        "**BARPLOT**"
      ],
      "metadata": {
        "id": "Z3nFaEj8QxBe"
      }
    },
    {
      "cell_type": "code",
      "source": [
        "fig,axis=plt.subplots(2,2,figsize=(8,8))\n",
        "sns.barplot(x='Customer_care_calls',y='Product_importance',hue='Reached.on.Time_Y.N',data=df,ax=axis[0,0])\n",
        "sns.barplot(x='Customer_rating',y='Gender',hue='Reached.on.Time_Y.N',data=df,ax=axis[0,1])\n",
        "sns.barplot(x='Customer_rating',y='Product_importance',hue='Reached.on.Time_Y.N',data=df,ax=axis[1,0])\n",
        "sns.barplot(x='Warehouse_block',y='Mode_of_Shipment',hue='Reached.on.Time_Y.N',data=df,ax=axis[1,1])"
      ],
      "metadata": {
        "colab": {
          "base_uri": "https://localhost:8080/",
          "height": 717
        },
        "id": "t4DY15SnLyd5",
        "outputId": "c4d0b2aa-d7bf-47be-f3e5-648b7bc89865"
      },
      "execution_count": 15,
      "outputs": [
        {
          "output_type": "execute_result",
          "data": {
            "text/plain": [
              "<Axes: xlabel='Warehouse_block', ylabel='Mode_of_Shipment'>"
            ]
          },
          "metadata": {},
          "execution_count": 15
        },
        {
          "output_type": "display_data",
          "data": {
            "text/plain": [
              "<Figure size 800x800 with 4 Axes>"
            ],
            "image/png": "[encoded data removed]"
          },
          "metadata": {}
        }
      ]
    },
    {
      "cell_type": "markdown",
      "source": [
        "**DISPLOT**"
      ],
      "metadata": {
        "id": "OvrzstIXa2hx"
      }
    },
    {
      "cell_type": "code",
      "source": [
        "sns.displot(df,hue='Reached.on.Time_Y.N',x='Product_importance',kind='kde')"
      ],
      "metadata": {
        "colab": {
          "base_uri": "https://localhost:8080/",
          "height": 524
        },
        "id": "hKtQIVWja1Ci",
        "outputId": "75ab22c2-4186-40ea-929f-3d8803fedd91"
      },
      "execution_count": 16,
      "outputs": [
        {
          "output_type": "execute_result",
          "data": {
            "text/plain": [
              "<seaborn.axisgrid.FacetGrid at 0x7f56b611c550>"
            ]
          },
          "metadata": {},
          "execution_count": 16
        },
        {
          "output_type": "display_data",
          "data": {
            "text/plain": [
              "<Figure size 658.361x500 with 1 Axes>"
            ],
            "image/png": "[encoded data removed]"
          },
          "metadata": {}
        }
      ]
    },
    {
      "cell_type": "markdown",
      "source": [
        "**HEATMAP**"
      ],
      "metadata": {
        "id": "hqpXyydRQ2BE"
      }
    },
    {
      "cell_type": "code",
      "source": [
        "sns.heatmap(df.corr())"
      ],
      "metadata": {
        "colab": {
          "base_uri": "https://localhost:8080/",
          "height": 587
        },
        "id": "LKx3wk-HOpy8",
        "outputId": "b1836e46-0f91-459e-a1d9-4f572f65feeb"
      },
      "execution_count": 17,
      "outputs": [
        {
          "output_type": "execute_result",
          "data": {
            "text/plain": [
              "<Axes: >"
            ]
          },
          "metadata": {},
          "execution_count": 17
        },
        {
          "output_type": "display_data",
          "data": {
            "text/plain": [
              "<Figure size 640x480 with 2 Axes>"
            ],
            "image/png": "[encoded data removed]"
          },
          "metadata": {}
        }
      ]
    },
    {
      "cell_type": "markdown",
      "source": [
        "**COUNTPLOT**"
      ],
      "metadata": {
        "id": "Cyey9suJQ4Cb"
      }
    },
    {
      "cell_type": "code",
      "source": [
        "sns.countplot(x='Mode_of_Shipment',data=df)"
      ],
      "metadata": {
        "colab": {
          "base_uri": "https://localhost:8080/",
          "height": 468
        },
        "id": "rJoj8-lhmT4t",
        "outputId": "4566db23-7cea-45d1-e39f-06100cacf043"
      },
      "execution_count": 18,
      "outputs": [
        {
          "output_type": "execute_result",
          "data": {
            "text/plain": [
              "<Axes: xlabel='Mode_of_Shipment', ylabel='count'>"
            ]
          },
          "metadata": {},
          "execution_count": 18
        },
        {
          "output_type": "display_data",
          "data": {
            "text/plain": [
              "<Figure size 640x480 with 1 Axes>"
            ],
            "image/png": "[encoded data removed]"
          },
          "metadata": {}
        }
      ]
    },
    {
      "cell_type": "markdown",
      "source": [
        "**Pie-Chart** (To check the dataset is balanced or not)"
      ],
      "metadata": {
        "id": "ALTEHn_9eden"
      }
    },
    {
      "cell_type": "code",
      "source": [
        "X1=df['Reached.on.Time_Y.N'].value_counts()\n",
        "print(X1)\n",
        "new=['Reached','Not Reached']\n",
        "plt.figure(figsize=(5,5))\n",
        "plt.pie(X1,explode=[0.2,0],labels=new,shadow=True,autopct='%2.1f%%',wedgeprops={'width':0.4},textprops={'fontsize':15})\n",
        "plt.title('Reached on Time or Not')\n",
        "plt.legend(title='Output')\n",
        "plt.show()"
      ],
      "metadata": {
        "colab": {
          "base_uri": "https://localhost:8080/",
          "height": 498
        },
        "id": "8zVdcXx3eUaL",
        "outputId": "1b008a9c-7022-4cce-c885-67a6c0ee88ae"
      },
      "execution_count": 19,
      "outputs": [
        {
          "output_type": "stream",
          "name": "stdout",
          "text": [
            "1    6563\n",
            "0    4436\n",
            "Name: Reached.on.Time_Y.N, dtype: int64\n"
          ]
        },
        {
          "output_type": "display_data",
          "data": {
            "text/plain": [
              "<Figure size 500x500 with 1 Axes>"
            ],
            "image/png": "[encoded data removed]"
          },
          "metadata": {}
        }
      ]
    },
    {
      "cell_type": "markdown",
      "source": [
        "\n",
        "**Normalising the Dataset by StandardScaler**\n"
      ],
      "metadata": {
        "id": "TSWuq27DeTdA"
      }
    },
    {
      "cell_type": "code",
      "source": [
        "sc=StandardScaler()\n",
        "X=sc.fit_transform(X)\n",
        "X"
      ],
      "metadata": {
        "colab": {
          "base_uri": "https://localhost:8080/"
        },
        "id": "tcGniDYNes0y",
        "outputId": "446f2bc3-762a-459b-dcc8-c6791396faaf"
      },
      "execution_count": 20,
      "outputs": [
        {
          "output_type": "execute_result",
          "data": {
            "text/plain": [
              "array([[ 0.4471892 , -2.00415767, -0.04771132, ..., -0.99176046,\n",
              "         1.88998336, -1.46823975],\n",
              "       [ 1.11803399, -2.00415767, -0.04771132, ...,  1.00830799,\n",
              "         2.81563557, -0.33389333],\n",
              "       [-1.56534517, -2.00415767, -1.79988745, ...,  1.00830799,\n",
              "         2.13682395, -0.15900218],\n",
              "       ...,\n",
              "       [-0.22365559,  0.63834175,  0.82837675, ..., -0.99176046,\n",
              "        -0.57842252, -1.51593733],\n",
              "       [ 1.11803399,  0.63834175,  0.82837675, ...,  1.00830799,\n",
              "        -0.70184282, -1.48230442],\n",
              "       [ 0.4471892 ,  0.63834175, -1.79988745, ..., -0.99176046,\n",
              "        -0.45500223, -1.2199677 ]])"
            ]
          },
          "metadata": {},
          "execution_count": 20
        }
      ]
    },
    {
      "cell_type": "code",
      "source": [
        "Xtrain,Xtest,ytrain,ytest=train_test_split(X,y,test_size=.3,random_state=1)"
      ],
      "metadata": {
        "id": "TyIF2ySH088l"
      },
      "execution_count": 21,
      "outputs": []
    },
    {
      "cell_type": "markdown",
      "source": [
        "**Finding the Accuracy Score using different Algorithms**\n",
        "1.  **Random Forest Classifier**\n",
        "2.  **KNeighborsClassifier**\n",
        "3.  **SVM**\n",
        "4.  **Naive Baye's**\n",
        "\n",
        "\n",
        "\n",
        "\n"
      ],
      "metadata": {
        "id": "s4ATj-ItRFlm"
      }
    },
    {
      "cell_type": "code",
      "source": [
        "Rfc=RandomForestClassifier(n_estimators=25,criterion='entropy')\n",
        "Knn=KNeighborsClassifier(n_neighbors=3)\n",
        "Sv=SVC(kernel='rbf')\n",
        "Nb=BernoulliNB()\n",
        "lst=[Knn,Sv,Nb,Rfc]\n",
        "score=[]\n",
        "for i in lst:\n",
        "  print('*'*100)\n",
        "  i.fit(Xtrain,ytrain)\n",
        "  ypred=i.predict(Xtest)\n",
        "  print('Accuracy Score of',i,accuracy_score(ypred,ytest)*100)\n",
        "  model_score=accuracy_score(ypred,ytest)*100\n",
        "  score.append(model_score)\n",
        "\n"
      ],
      "metadata": {
        "id": "xSat6cd51cjh",
        "colab": {
          "base_uri": "https://localhost:8080/"
        },
        "outputId": "a11c21f4-75eb-4a19-ab8b-6943e3ab09ad"
      },
      "execution_count": 22,
      "outputs": [
        {
          "output_type": "stream",
          "name": "stdout",
          "text": [
            "****************************************************************************************************\n",
            "Accuracy Score of KNeighborsClassifier(n_neighbors=3) 64.27272727272727\n",
            "****************************************************************************************************\n",
            "Accuracy Score of SVC() 67.21212121212122\n",
            "****************************************************************************************************\n",
            "Accuracy Score of BernoulliNB() 68.18181818181817\n",
            "****************************************************************************************************\n",
            "Accuracy Score of RandomForestClassifier(criterion='entropy', n_estimators=25) 65.0\n"
          ]
        }
      ]
    },
    {
      "cell_type": "markdown",
      "source": [
        "Dataframe of Different Accuracys"
      ],
      "metadata": {
        "id": "i4T_CKMdRenP"
      }
    },
    {
      "cell_type": "code",
      "source": [
        "Algorithm_Used=[\"KNN\",'SVM','NAIVE BAYES','RANDOM FOREST']\n",
        "Accuracy=score\n",
        "d=pd.DataFrame({'Algorithm':Algorithm_Used,'Accuracy':Accuracy},index=[1,2,3,4])\n",
        "d.style.highlight_max(subset='Accuracy',color='blue')"
      ],
      "metadata": {
        "colab": {
          "base_uri": "https://localhost:8080/",
          "height": 174
        },
        "id": "xTefpeDB2ps0",
        "outputId": "da0596f4-fa44-40e0-c2e0-d89e4e9fefd8"
      },
      "execution_count": 23,
      "outputs": [
        {
          "output_type": "execute_result",
          "data": {
            "text/plain": [
              "<pandas.io.formats.style.Styler at 0x7f56b8f3ae20>"
            ],
            "text/html": [
              "<style type=\"text/css\">\n",
              "#T_6d2b4_row2_col1 {\n",
              "  background-color: blue;\n",
              "}\n",
              "</style>\n",
              "<table id=\"T_6d2b4\" class=\"dataframe\">\n",
              "  <thead>\n",
              "    <tr>\n",
              "      <th class=\"blank level0\" >&nbsp;</th>\n",
              "      <th id=\"T_6d2b4_level0_col0\" class=\"col_heading level0 col0\" >Algorithm</th>\n",
              "      <th id=\"T_6d2b4_level0_col1\" class=\"col_heading level0 col1\" >Accuracy</th>\n",
              "    </tr>\n",
              "  </thead>\n",
              "  <tbody>\n",
              "    <tr>\n",
              "      <th id=\"T_6d2b4_level0_row0\" class=\"row_heading level0 row0\" >1</th>\n",
              "      <td id=\"T_6d2b4_row0_col0\" class=\"data row0 col0\" >KNN</td>\n",
              "      <td id=\"T_6d2b4_row0_col1\" class=\"data row0 col1\" >64.272727</td>\n",
              "    </tr>\n",
              "    <tr>\n",
              "      <th id=\"T_6d2b4_level0_row1\" class=\"row_heading level0 row1\" >2</th>\n",
              "      <td id=\"T_6d2b4_row1_col0\" class=\"data row1 col0\" >SVM</td>\n",
              "      <td id=\"T_6d2b4_row1_col1\" class=\"data row1 col1\" >67.212121</td>\n",
              "    </tr>\n",
              "    <tr>\n",
              "      <th id=\"T_6d2b4_level0_row2\" class=\"row_heading level0 row2\" >3</th>\n",
              "      <td id=\"T_6d2b4_row2_col0\" class=\"data row2 col0\" >NAIVE BAYES</td>\n",
              "      <td id=\"T_6d2b4_row2_col1\" class=\"data row2 col1\" >68.181818</td>\n",
              "    </tr>\n",
              "    <tr>\n",
              "      <th id=\"T_6d2b4_level0_row3\" class=\"row_heading level0 row3\" >4</th>\n",
              "      <td id=\"T_6d2b4_row3_col0\" class=\"data row3 col0\" >RANDOM FOREST</td>\n",
              "      <td id=\"T_6d2b4_row3_col1\" class=\"data row3 col1\" >65.000000</td>\n",
              "    </tr>\n",
              "  </tbody>\n",
              "</table>\n"
            ]
          },
          "metadata": {},
          "execution_count": 23
        }
      ]
    },
    {
      "cell_type": "markdown",
      "source": [
        "Performing dataset Balancing using **SMOTEENN**"
      ],
      "metadata": {
        "id": "-zPopY6pVms3"
      }
    },
    {
      "cell_type": "code",
      "source": [
        "smo=SMOTEENN()\n",
        "Xsmo,ysmo=smo.fit_resample(X,y)\n",
        "Xsmo"
      ],
      "metadata": {
        "id": "h-f19c3U_RRp",
        "colab": {
          "base_uri": "https://localhost:8080/"
        },
        "outputId": "55412299-cd41-47c1-c6f3-db5f37c2cf17"
      },
      "execution_count": 24,
      "outputs": [
        {
          "output_type": "execute_result",
          "data": {
            "text/plain": [
              "array([[-0.89450038, -0.68290796,  1.70446482, ...,  1.00830799,\n",
              "        -0.33158193,  0.85426575],\n",
              "       [ 0.4471892 , -0.68290796, -0.04771132, ...,  1.00830799,\n",
              "        -0.51671238,  0.60415918],\n",
              "       [ 1.11803399, -0.68290796, -0.92379938, ...,  1.00830799,\n",
              "        -0.39329208,  0.88728716],\n",
              "       ...,\n",
              "       [-1.56534517, -2.00415767,  0.82837675, ...,  1.00830799,\n",
              "        -0.70184282,  0.98940891],\n",
              "       [ 0.4471892 ,  0.63834175, -0.04771132, ..., -0.99176046,\n",
              "        -0.57842252, -1.21385263],\n",
              "       [-1.56534517,  0.63834175,  0.82837675, ...,  1.00830799,\n",
              "        -0.39329208, -1.22975182]])"
            ]
          },
          "metadata": {},
          "execution_count": 24
        }
      ]
    },
    {
      "cell_type": "code",
      "source": [
        "ysmo"
      ],
      "metadata": {
        "colab": {
          "base_uri": "https://localhost:8080/"
        },
        "id": "hOuHUNWZuRbN",
        "outputId": "dadd2c42-00e2-4d32-c5d3-9a17d379c9a9"
      },
      "execution_count": 25,
      "outputs": [
        {
          "output_type": "execute_result",
          "data": {
            "text/plain": [
              "0       0\n",
              "1       0\n",
              "2       0\n",
              "3       0\n",
              "4       0\n",
              "       ..\n",
              "6014    1\n",
              "6015    1\n",
              "6016    1\n",
              "6017    1\n",
              "6018    1\n",
              "Name: Reached.on.Time_Y.N, Length: 6019, dtype: int64"
            ]
          },
          "metadata": {},
          "execution_count": 25
        }
      ]
    },
    {
      "cell_type": "markdown",
      "source": [
        "Pie-Chart after balancing"
      ],
      "metadata": {
        "id": "mGEW5_ppVrDR"
      }
    },
    {
      "cell_type": "code",
      "source": [
        "X2=ysmo.value_counts()\n",
        "print(X2)\n",
        "new=['Reached','Not Reached']\n",
        "plt.figure(figsize=(6,6))\n",
        "plt.pie(X2,explode=[0.2,0],labels=new,shadow=True,autopct='%2.1f%%',wedgeprops={'width':0.4},textprops={'fontsize':15})\n",
        "plt.title('Reached on Time or Not')\n",
        "plt.legend(title='Output')\n",
        "plt.show()"
      ],
      "metadata": {
        "colab": {
          "base_uri": "https://localhost:8080/",
          "height": 575
        },
        "id": "JFEZHtKeuZt2",
        "outputId": "5ad99ac2-d042-43f9-c2e8-d9da95cb89d8"
      },
      "execution_count": 26,
      "outputs": [
        {
          "output_type": "stream",
          "name": "stdout",
          "text": [
            "0    3046\n",
            "1    2973\n",
            "Name: Reached.on.Time_Y.N, dtype: int64\n"
          ]
        },
        {
          "output_type": "display_data",
          "data": {
            "text/plain": [
              "<Figure size 600x600 with 1 Axes>"
            ],
            "image/png": "[encoded data removed]"
          },
          "metadata": {}
        }
      ]
    },
    {
      "cell_type": "markdown",
      "source": [
        "Performing Train Test Split"
      ],
      "metadata": {
        "id": "Icrawp79VylI"
      }
    },
    {
      "cell_type": "code",
      "source": [
        "Xtrain_s,Xtest_s,ytrain_s,ytest_s=train_test_split(Xsmo,ysmo,test_size=.3,random_state=1)"
      ],
      "metadata": {
        "id": "vdRDU_Qr_0QS"
      },
      "execution_count": 27,
      "outputs": []
    },
    {
      "cell_type": "markdown",
      "source": [
        "Finding the Accuracy Score using different Algorithms"
      ],
      "metadata": {
        "id": "kKf99jC4V2pN"
      }
    },
    {
      "cell_type": "code",
      "source": [
        "Rfc=RandomForestClassifier(n_estimators=25,criterion='entropy')\n",
        "Knn=KNeighborsClassifier(n_neighbors=3)\n",
        "Sv=SVC(kernel='rbf')\n",
        "Nb=BernoulliNB()\n",
        "lst=[Knn,Sv,Nb,Rfc]\n",
        "score1=[]\n",
        "for i in lst:\n",
        "  print('*'*100)\n",
        "  i.fit(Xtrain_s,ytrain_s)\n",
        "  ypred_s=i.predict(Xtest_s)\n",
        "  print('Accuracy Score of',i,accuracy_score(ypred_s,ytest_s)*100)\n",
        "  model_score=accuracy_score(ypred_s,ytest_s)*100\n",
        "  score1.append(model_score)"
      ],
      "metadata": {
        "colab": {
          "base_uri": "https://localhost:8080/"
        },
        "id": "jQWqDcQgABbK",
        "outputId": "1a428a6b-757e-41a8-d34c-16810a49acb5"
      },
      "execution_count": 28,
      "outputs": [
        {
          "output_type": "stream",
          "name": "stdout",
          "text": [
            "****************************************************************************************************\n",
            "Accuracy Score of KNeighborsClassifier(n_neighbors=3) 95.79180509413068\n",
            "****************************************************************************************************\n",
            "Accuracy Score of SVC() 94.35215946843853\n",
            "****************************************************************************************************\n",
            "Accuracy Score of BernoulliNB() 93.4108527131783\n",
            "****************************************************************************************************\n",
            "Accuracy Score of RandomForestClassifier(criterion='entropy', n_estimators=25) 95.51495016611295\n"
          ]
        }
      ]
    },
    {
      "cell_type": "code",
      "source": [
        "Algorithm_Used=[\"KNN\",'SVM','NAIVE BAYES','RANDOM FOREST']\n",
        "Accuracy1=score1\n",
        "dt=pd.DataFrame({'Algorithm':Algorithm_Used,'Accuracy':Accuracy},index=[1,2,3,4])\n",
        "dt.style.highlight_max(subset='Accuracy',color='violet')"
      ],
      "metadata": {
        "colab": {
          "base_uri": "https://localhost:8080/",
          "height": 174
        },
        "id": "Q7yQ0ynUATgg",
        "outputId": "7195e29d-5416-4067-f088-12ac2e4524cc"
      },
      "execution_count": 29,
      "outputs": [
        {
          "output_type": "execute_result",
          "data": {
            "text/plain": [
              "<pandas.io.formats.style.Styler at 0x7f56ecbcd760>"
            ],
            "text/html": [
              "<style type=\"text/css\">\n",
              "#T_bda50_row2_col1 {\n",
              "  background-color: violet;\n",
              "}\n",
              "</style>\n",
              "<table id=\"T_bda50\" class=\"dataframe\">\n",
              "  <thead>\n",
              "    <tr>\n",
              "      <th class=\"blank level0\" >&nbsp;</th>\n",
              "      <th id=\"T_bda50_level0_col0\" class=\"col_heading level0 col0\" >Algorithm</th>\n",
              "      <th id=\"T_bda50_level0_col1\" class=\"col_heading level0 col1\" >Accuracy</th>\n",
              "    </tr>\n",
              "  </thead>\n",
              "  <tbody>\n",
              "    <tr>\n",
              "      <th id=\"T_bda50_level0_row0\" class=\"row_heading level0 row0\" >1</th>\n",
              "      <td id=\"T_bda50_row0_col0\" class=\"data row0 col0\" >KNN</td>\n",
              "      <td id=\"T_bda50_row0_col1\" class=\"data row0 col1\" >64.272727</td>\n",
              "    </tr>\n",
              "    <tr>\n",
              "      <th id=\"T_bda50_level0_row1\" class=\"row_heading level0 row1\" >2</th>\n",
              "      <td id=\"T_bda50_row1_col0\" class=\"data row1 col0\" >SVM</td>\n",
              "      <td id=\"T_bda50_row1_col1\" class=\"data row1 col1\" >67.212121</td>\n",
              "    </tr>\n",
              "    <tr>\n",
              "      <th id=\"T_bda50_level0_row2\" class=\"row_heading level0 row2\" >3</th>\n",
              "      <td id=\"T_bda50_row2_col0\" class=\"data row2 col0\" >NAIVE BAYES</td>\n",
              "      <td id=\"T_bda50_row2_col1\" class=\"data row2 col1\" >68.181818</td>\n",
              "    </tr>\n",
              "    <tr>\n",
              "      <th id=\"T_bda50_level0_row3\" class=\"row_heading level0 row3\" >4</th>\n",
              "      <td id=\"T_bda50_row3_col0\" class=\"data row3 col0\" >RANDOM FOREST</td>\n",
              "      <td id=\"T_bda50_row3_col1\" class=\"data row3 col1\" >65.000000</td>\n",
              "    </tr>\n",
              "  </tbody>\n",
              "</table>\n"
            ]
          },
          "metadata": {},
          "execution_count": 29
        }
      ]
    },
    {
      "cell_type": "markdown",
      "source": [
        "Description of the Dataset"
      ],
      "metadata": {
        "id": "i11Rg9Q_V-sA"
      }
    },
    {
      "cell_type": "code",
      "source": [
        "df.describe()"
      ],
      "metadata": {
        "colab": {
          "base_uri": "https://localhost:8080/",
          "height": 300
        },
        "id": "bS-iWS0rxkTY",
        "outputId": "c383d21b-da83-47c6-f589-2957c2dd9fd0"
      },
      "execution_count": 30,
      "outputs": [
        {
          "output_type": "execute_result",
          "data": {
            "text/plain": [
              "       Warehouse_block  Mode_of_Shipment  Customer_care_calls  \\\n",
              "count     10999.000000      10999.000000         10999.000000   \n",
              "mean          2.333394          1.516865             4.054459   \n",
              "std           1.490726          0.756894             1.141490   \n",
              "min           0.000000          0.000000             2.000000   \n",
              "25%           1.000000          1.000000             3.000000   \n",
              "50%           3.000000          2.000000             4.000000   \n",
              "75%           4.000000          2.000000             5.000000   \n",
              "max           4.000000          2.000000             7.000000   \n",
              "\n",
              "       Customer_rating  Cost_of_the_Product  Prior_purchases  \\\n",
              "count     10999.000000         10999.000000     10999.000000   \n",
              "mean          2.990545           210.196836         3.567597   \n",
              "std           1.413603            48.063272         1.522860   \n",
              "min           1.000000            96.000000         2.000000   \n",
              "25%           2.000000           169.000000         3.000000   \n",
              "50%           3.000000           214.000000         3.000000   \n",
              "75%           4.000000           251.000000         4.000000   \n",
              "max           5.000000           310.000000        10.000000   \n",
              "\n",
              "       Product_importance        Gender  Discount_offered  Weight_in_gms  \\\n",
              "count        10999.000000  10999.000000      10999.000000   10999.000000   \n",
              "mean             1.346031      0.495863         13.373216    3634.016729   \n",
              "std              0.631434      0.500006         16.205527    1635.377251   \n",
              "min              0.000000      0.000000          1.000000    1001.000000   \n",
              "25%              1.000000      0.000000          4.000000    1839.500000   \n",
              "50%              1.000000      0.000000          7.000000    4149.000000   \n",
              "75%              2.000000      1.000000         10.000000    5050.000000   \n",
              "max              2.000000      1.000000         65.000000    7846.000000   \n",
              "\n",
              "       Reached.on.Time_Y.N  \n",
              "count         10999.000000  \n",
              "mean              0.596691  \n",
              "std               0.490584  \n",
              "min               0.000000  \n",
              "25%               0.000000  \n",
              "50%               1.000000  \n",
              "75%               1.000000  \n",
              "max               1.000000  "
            ],
            "text/html": [
              "\n",
              "  <div id=\"df-79daca5b-0028-4d56-8c24-3b6500ea96fd\">\n",
              "    <div class=\"colab-df-container\">\n",
              "      <div>\n",
              "<style scoped>\n",
              "    .dataframe tbody tr th:only-of-type {\n",
              "        vertical-align: middle;\n",
              "    }\n",
              "\n",
              "    .dataframe tbody tr th {\n",
              "        vertical-align: top;\n",
              "    }\n",
              "\n",
              "    .dataframe thead th {\n",
              "        text-align: right;\n",
              "    }\n",
              "</style>\n",
              "<table border=\"1\" class=\"dataframe\">\n",
              "  <thead>\n",
              "    <tr style=\"text-align: right;\">\n",
              "      <th></th>\n",
              "      <th>Warehouse_block</th>\n",
              "      <th>Mode_of_Shipment</th>\n",
              "      <th>Customer_care_calls</th>\n",
              "      <th>Customer_rating</th>\n",
              "      <th>Cost_of_the_Product</th>\n",
              "      <th>Prior_purchases</th>\n",
              "      <th>Product_importance</th>\n",
              "      <th>Gender</th>\n",
              "      <th>Discount_offered</th>\n",
              "      <th>Weight_in_gms</th>\n",
              "      <th>Reached.on.Time_Y.N</th>\n",
              "    </tr>\n",
              "  </thead>\n",
              "  <tbody>\n",
              "    <tr>\n",
              "      <th>count</th>\n",
              "      <td>10999.000000</td>\n",
              "      <td>10999.000000</td>\n",
              "      <td>10999.000000</td>\n",
              "      <td>10999.000000</td>\n",
              "      <td>10999.000000</td>\n",
              "      <td>10999.000000</td>\n",
              "      <td>10999.000000</td>\n",
              "      <td>10999.000000</td>\n",
              "      <td>10999.000000</td>\n",
              "      <td>10999.000000</td>\n",
              "      <td>10999.000000</td>\n",
              "    </tr>\n",
              "    <tr>\n",
              "      <th>mean</th>\n",
              "      <td>2.333394</td>\n",
              "      <td>1.516865</td>\n",
              "      <td>4.054459</td>\n",
              "      <td>2.990545</td>\n",
              "      <td>210.196836</td>\n",
              "      <td>3.567597</td>\n",
              "      <td>1.346031</td>\n",
              "      <td>0.495863</td>\n",
              "      <td>13.373216</td>\n",
              "      <td>3634.016729</td>\n",
              "      <td>0.596691</td>\n",
              "    </tr>\n",
              "    <tr>\n",
              "      <th>std</th>\n",
              "      <td>1.490726</td>\n",
              "      <td>0.756894</td>\n",
              "      <td>1.141490</td>\n",
              "      <td>1.413603</td>\n",
              "      <td>48.063272</td>\n",
              "      <td>1.522860</td>\n",
              "      <td>0.631434</td>\n",
              "      <td>0.500006</td>\n",
              "      <td>16.205527</td>\n",
              "      <td>1635.377251</td>\n",
              "      <td>0.490584</td>\n",
              "    </tr>\n",
              "    <tr>\n",
              "      <th>min</th>\n",
              "      <td>0.000000</td>\n",
              "      <td>0.000000</td>\n",
              "      <td>2.000000</td>\n",
              "      <td>1.000000</td>\n",
              "      <td>96.000000</td>\n",
              "      <td>2.000000</td>\n",
              "      <td>0.000000</td>\n",
              "      <td>0.000000</td>\n",
              "      <td>1.000000</td>\n",
              "      <td>1001.000000</td>\n",
              "      <td>0.000000</td>\n",
              "    </tr>\n",
              "    <tr>\n",
              "      <th>25%</th>\n",
              "      <td>1.000000</td>\n",
              "      <td>1.000000</td>\n",
              "      <td>3.000000</td>\n",
              "      <td>2.000000</td>\n",
              "      <td>169.000000</td>\n",
              "      <td>3.000000</td>\n",
              "      <td>1.000000</td>\n",
              "      <td>0.000000</td>\n",
              "      <td>4.000000</td>\n",
              "      <td>1839.500000</td>\n",
              "      <td>0.000000</td>\n",
              "    </tr>\n",
              "    <tr>\n",
              "      <th>50%</th>\n",
              "      <td>3.000000</td>\n",
              "      <td>2.000000</td>\n",
              "      <td>4.000000</td>\n",
              "      <td>3.000000</td>\n",
              "      <td>214.000000</td>\n",
              "      <td>3.000000</td>\n",
              "      <td>1.000000</td>\n",
              "      <td>0.000000</td>\n",
              "      <td>7.000000</td>\n",
              "      <td>4149.000000</td>\n",
              "      <td>1.000000</td>\n",
              "    </tr>\n",
              "    <tr>\n",
              "      <th>75%</th>\n",
              "      <td>4.000000</td>\n",
              "      <td>2.000000</td>\n",
              "      <td>5.000000</td>\n",
              "      <td>4.000000</td>\n",
              "      <td>251.000000</td>\n",
              "      <td>4.000000</td>\n",
              "      <td>2.000000</td>\n",
              "      <td>1.000000</td>\n",
              "      <td>10.000000</td>\n",
              "      <td>5050.000000</td>\n",
              "      <td>1.000000</td>\n",
              "    </tr>\n",
              "    <tr>\n",
              "      <th>max</th>\n",
              "      <td>4.000000</td>\n",
              "      <td>2.000000</td>\n",
              "      <td>7.000000</td>\n",
              "      <td>5.000000</td>\n",
              "      <td>310.000000</td>\n",
              "      <td>10.000000</td>\n",
              "      <td>2.000000</td>\n",
              "      <td>1.000000</td>\n",
              "      <td>65.000000</td>\n",
              "      <td>7846.000000</td>\n",
              "      <td>1.000000</td>\n",
              "    </tr>\n",
              "  </tbody>\n",
              "</table>\n",
              "</div>\n",
              "      <button class=\"colab-df-convert\" onclick=\"convertToInteractive('df-79daca5b-0028-4d56-8c24-3b6500ea96fd')\"\n",
              "              title=\"Convert this dataframe to an interactive table.\"\n",
              "              style=\"display:none;\">\n",
              "        \n",
              "  <svg xmlns=\"http://www.w3.org/2000/svg\" height=\"24px\"viewBox=\"0 0 24 24\"\n",
              "       width=\"24px\">\n",
              "    <path d=\"M0 0h24v24H0V0z\" fill=\"none\"/>\n",
              "    <path d=\"M18.56 5.44l.94 2.06.94-2.06 2.06-.94-2.06-.94-.94-2.06-.94 2.06-2.06.94zm-11 1L8.5 8.5l.94-2.06 2.06-.94-2.06-.94L8.5 2.5l-.94 2.06-2.06.94zm10 10l.94 2.06.94-2.06 2.06-.94-2.06-.94-.94-2.06-.94 2.06-2.06.94z\"/><path d=\"M17.41 7.96l-1.37-1.37c-.4-.4-.92-.59-1.43-.59-.52 0-1.04.2-1.43.59L10.3 9.45l-7.72 7.72c-.78.78-.78 2.05 0 2.83L4 21.41c.39.39.9.59 1.41.59.51 0 1.02-.2 1.41-.59l7.78-7.78 2.81-2.81c.8-.78.8-2.07 0-2.86zM5.41 20L4 18.59l7.72-7.72 1.47 1.35L5.41 20z\"/>\n",
              "  </svg>\n",
              "      </button>\n",
              "      \n",
              "  <style>\n",
              "    .colab-df-container {\n",
              "      display:flex;\n",
              "      flex-wrap:wrap;\n",
              "      gap: 12px;\n",
              "    }\n",
              "\n",
              "    .colab-df-convert {\n",
              "      background-color: #E8F0FE;\n",
              "      border: none;\n",
              "      border-radius: 50%;\n",
              "      cursor: pointer;\n",
              "      display: none;\n",
              "      fill: #1967D2;\n",
              "      height: 32px;\n",
              "      padding: 0 0 0 0;\n",
              "      width: 32px;\n",
              "    }\n",
              "\n",
              "    .colab-df-convert:hover {\n",
              "      background-color: #E2EBFA;\n",
              "      box-shadow: 0px 1px 2px rgba(60, 64, 67, 0.3), 0px 1px 3px 1px rgba(60, 64, 67, 0.15);\n",
              "      fill: #174EA6;\n",
              "    }\n",
              "\n",
              "    [theme=dark] .colab-df-convert {\n",
              "      background-color: #3B4455;\n",
              "      fill: #D2E3FC;\n",
              "    }\n",
              "\n",
              "    [theme=dark] .colab-df-convert:hover {\n",
              "      background-color: #434B5C;\n",
              "      box-shadow: 0px 1px 3px 1px rgba(0, 0, 0, 0.15);\n",
              "      filter: drop-shadow(0px 1px 2px rgba(0, 0, 0, 0.3));\n",
              "      fill: #FFFFFF;\n",
              "    }\n",
              "  </style>\n",
              "\n",
              "      <script>\n",
              "        const buttonEl =\n",
              "          document.querySelector('#df-79daca5b-0028-4d56-8c24-3b6500ea96fd button.colab-df-convert');\n",
              "        buttonEl.style.display =\n",
              "          google.colab.kernel.accessAllowed ? 'block' : 'none';\n",
              "\n",
              "        async function convertToInteractive(key) {\n",
              "          const element = document.querySelector('#df-79daca5b-0028-4d56-8c24-3b6500ea96fd');\n",
              "          const dataTable =\n",
              "            await google.colab.kernel.invokeFunction('convertToInteractive',\n",
              "                                                     [key], {});\n",
              "          if (!dataTable) return;\n",
              "\n",
              "          const docLinkHtml = 'Like what you see? Visit the ' +\n",
              "            '<a target=\"_blank\" href=https://colab.research.google.com/notebooks/data_table.ipynb>data table notebook</a>'\n",
              "            + ' to learn more about interactive tables.';\n",
              "          element.innerHTML = '';\n",
              "          dataTable['output_type'] = 'display_data';\n",
              "          await google.colab.output.renderOutput(dataTable, element);\n",
              "          const docLink = document.createElement('div');\n",
              "          docLink.innerHTML = docLinkHtml;\n",
              "          element.appendChild(docLink);\n",
              "        }\n",
              "      </script>\n",
              "    </div>\n",
              "  </div>\n",
              "  "
            ]
          },
          "metadata": {},
          "execution_count": 30
        }
      ]
    },
    {
      "cell_type": "markdown",
      "source": [
        "**Principal Component Analysis (PCA)**"
      ],
      "metadata": {
        "id": "0I8w8SdIWI95"
      }
    },
    {
      "cell_type": "code",
      "source": [
        "pca=PCA(n_components=7)\n",
        "Xtrain_pca=pca.fit_transform(Xtrain)\n",
        "Xtest_pca=pca.transform(Xtest)\n",
        "Xtrain_pca"
      ],
      "metadata": {
        "colab": {
          "base_uri": "https://localhost:8080/"
        },
        "id": "ktGJ7XEF7JHz",
        "outputId": "e7c42b88-8de7-4055-fdc5-f583d554bf3c"
      },
      "execution_count": 31,
      "outputs": [
        {
          "output_type": "execute_result",
          "data": {
            "text/plain": [
              "array([[-1.15014946e+00, -3.13624837e-01,  6.76357294e-01, ...,\n",
              "        -1.21278819e+00, -3.10135578e-01, -3.91383831e-01],\n",
              "       [-9.89429537e-01,  3.75437461e+00, -2.32795683e-01, ...,\n",
              "         1.80398775e+00,  1.68422192e-01,  3.66380818e-01],\n",
              "       [ 1.86770705e-03,  1.11276965e+00,  1.04880422e+00, ...,\n",
              "         8.59097342e-01, -7.51436374e-01, -9.79244187e-01],\n",
              "       ...,\n",
              "       [-1.84978737e-02,  1.16010819e+00,  7.10917312e-01, ...,\n",
              "        -1.11338695e+00, -6.26904811e-01, -4.61116654e-01],\n",
              "       [ 1.31043466e-01, -9.85544322e-01,  1.44738289e+00, ...,\n",
              "         9.17775724e-01,  1.19392627e+00, -2.09557198e-01],\n",
              "       [-1.24737310e+00,  2.70985348e+00,  7.60367084e-01, ...,\n",
              "        -9.51826344e-01, -1.18365582e+00, -6.34739592e-01]])"
            ]
          },
          "metadata": {},
          "execution_count": 31
        }
      ]
    },
    {
      "cell_type": "code",
      "source": [
        "Xtest_pca"
      ],
      "metadata": {
        "colab": {
          "base_uri": "https://localhost:8080/"
        },
        "id": "qWJNDhZRCa4z",
        "outputId": "fcc046cb-b946-44d5-daee-d7758167a976"
      },
      "execution_count": 32,
      "outputs": [
        {
          "output_type": "execute_result",
          "data": {
            "text/plain": [
              "array([[-1.19045069e+00, -1.30841286e+00,  9.09963953e-01, ...,\n",
              "         2.17606698e-01, -7.67868956e-01, -1.01860501e+00],\n",
              "       [-8.57032687e-01,  2.30093875e+00, -2.98582953e-01, ...,\n",
              "        -1.50131037e+00,  1.78605520e-01, -1.32476335e+00],\n",
              "       [ 2.04744344e+00, -3.73504966e-01, -1.52089755e+00, ...,\n",
              "         5.59878515e-01,  4.27144795e-04, -2.22169325e-01],\n",
              "       ...,\n",
              "       [-1.08801882e+00, -2.39752885e-01, -5.92783896e-01, ...,\n",
              "         5.94093540e-03, -4.14589622e-01,  5.56612085e-01],\n",
              "       [-1.19603069e+00, -2.19884997e-01, -3.35291629e-01, ...,\n",
              "        -1.38330631e+00, -6.51926418e-02, -1.10932423e+00],\n",
              "       [-1.90301587e+00, -8.22929749e-01,  7.89697381e-01, ...,\n",
              "        -5.54495467e-01, -3.73884318e-01, -6.96957612e-01]])"
            ]
          },
          "metadata": {},
          "execution_count": 32
        }
      ]
    },
    {
      "cell_type": "code",
      "source": [
        "Rfc=RandomForestClassifier(n_estimators=25,criterion='entropy')\n",
        "Knn=KNeighborsClassifier(n_neighbors=3)\n",
        "Sv=SVC(kernel='rbf')\n",
        "Nb=BernoulliNB()\n",
        "lst=[Knn,Sv,Nb,Rfc]\n",
        "score2=[]\n",
        "for i in lst:\n",
        "  print('*'*100)\n",
        "  i.fit(Xtrain_pca,ytrain)\n",
        "  ypred_pca=i.predict(Xtest_pca)\n",
        "  print('Accuracy Score of',i,accuracy_score(ypred_pca,ytest)*100)\n",
        "  model_score=accuracy_score(ypred_pca,ytest)*100\n",
        "  score2.append(model_score)"
      ],
      "metadata": {
        "colab": {
          "base_uri": "https://localhost:8080/"
        },
        "id": "apf2c0RJCfIC",
        "outputId": "47e9d71e-4227-4ada-b2c4-76c104ed3295"
      },
      "execution_count": 33,
      "outputs": [
        {
          "output_type": "stream",
          "name": "stdout",
          "text": [
            "****************************************************************************************************\n",
            "Accuracy Score of KNeighborsClassifier(n_neighbors=3) 63.121212121212125\n",
            "****************************************************************************************************\n",
            "Accuracy Score of SVC() 66.42424242424242\n",
            "****************************************************************************************************\n",
            "Accuracy Score of BernoulliNB() 65.42424242424244\n",
            "****************************************************************************************************\n",
            "Accuracy Score of RandomForestClassifier(criterion='entropy', n_estimators=25) 64.75757575757576\n"
          ]
        }
      ]
    },
    {
      "cell_type": "code",
      "source": [
        "Algorithm_Used=[\"KNN\",'SVM','NAIVE BAYES','RANDOM FOREST']\n",
        "Accuracy2=score2\n",
        "data=pd.DataFrame({'Algorithm':Algorithm_Used,'Accuracy':Accuracy},index=[1,2,3,4])\n",
        "data.style.highlight_max(subset='Accuracy',color='orange')"
      ],
      "metadata": {
        "colab": {
          "base_uri": "https://localhost:8080/",
          "height": 174
        },
        "id": "enwUEQ2BG4pk",
        "outputId": "400c0c9e-5a58-4e17-8b51-ae3d6dd40f0a"
      },
      "execution_count": 34,
      "outputs": [
        {
          "output_type": "execute_result",
          "data": {
            "text/plain": [
              "<pandas.io.formats.style.Styler at 0x7f56ecb53400>"
            ],
            "text/html": [
              "<style type=\"text/css\">\n",
              "#T_b6c98_row2_col1 {\n",
              "  background-color: orange;\n",
              "}\n",
              "</style>\n",
              "<table id=\"T_b6c98\" class=\"dataframe\">\n",
              "  <thead>\n",
              "    <tr>\n",
              "      <th class=\"blank level0\" >&nbsp;</th>\n",
              "      <th id=\"T_b6c98_level0_col0\" class=\"col_heading level0 col0\" >Algorithm</th>\n",
              "      <th id=\"T_b6c98_level0_col1\" class=\"col_heading level0 col1\" >Accuracy</th>\n",
              "    </tr>\n",
              "  </thead>\n",
              "  <tbody>\n",
              "    <tr>\n",
              "      <th id=\"T_b6c98_level0_row0\" class=\"row_heading level0 row0\" >1</th>\n",
              "      <td id=\"T_b6c98_row0_col0\" class=\"data row0 col0\" >KNN</td>\n",
              "      <td id=\"T_b6c98_row0_col1\" class=\"data row0 col1\" >64.272727</td>\n",
              "    </tr>\n",
              "    <tr>\n",
              "      <th id=\"T_b6c98_level0_row1\" class=\"row_heading level0 row1\" >2</th>\n",
              "      <td id=\"T_b6c98_row1_col0\" class=\"data row1 col0\" >SVM</td>\n",
              "      <td id=\"T_b6c98_row1_col1\" class=\"data row1 col1\" >67.212121</td>\n",
              "    </tr>\n",
              "    <tr>\n",
              "      <th id=\"T_b6c98_level0_row2\" class=\"row_heading level0 row2\" >3</th>\n",
              "      <td id=\"T_b6c98_row2_col0\" class=\"data row2 col0\" >NAIVE BAYES</td>\n",
              "      <td id=\"T_b6c98_row2_col1\" class=\"data row2 col1\" >68.181818</td>\n",
              "    </tr>\n",
              "    <tr>\n",
              "      <th id=\"T_b6c98_level0_row3\" class=\"row_heading level0 row3\" >4</th>\n",
              "      <td id=\"T_b6c98_row3_col0\" class=\"data row3 col0\" >RANDOM FOREST</td>\n",
              "      <td id=\"T_b6c98_row3_col1\" class=\"data row3 col1\" >65.000000</td>\n",
              "    </tr>\n",
              "  </tbody>\n",
              "</table>\n"
            ]
          },
          "metadata": {},
          "execution_count": 34
        }
      ]
    },
    {
      "cell_type": "markdown",
      "source": [
        "**OUTLIER Detection**"
      ],
      "metadata": {
        "id": "4YahiZTvWabH"
      }
    },
    {
      "cell_type": "code",
      "source": [
        "attributes= [\"Warehouse_block\",\"Customer_care_calls\",\"Customer_rating\",\"Cost_of_the_Product\",\"Prior_purchases\",\"Product_importance\",\"Gender\",\"Discount_offered\",\"Weight_in_gms\"]\n",
        "plt.figure(figsize=(15,10))\n",
        "for i,j in zip(range(1,10),attributes):\n",
        "    plt.subplot(4,4,i)\n",
        "    sns.boxplot(data=df, x=j)\n",
        "    plt.tight_layout()\n",
        "    sns.set_theme()\n",
        "    plt.title('Boxplot of {}'.format(j))"
      ],
      "metadata": {
        "colab": {
          "base_uri": "https://localhost:8080/",
          "height": 794
        },
        "id": "7sWMkqhQNDRN",
        "outputId": "121fcacf-86c5-485a-fcc2-54e2c17fdc01"
      },
      "execution_count": 35,
      "outputs": [
        {
          "output_type": "display_data",
          "data": {
            "text/plain": [
              "<Figure size 1500x1000 with 9 Axes>"
            ],
            "image/png": "[encoded data removed]"
          },
          "metadata": {}
        }
      ]
    },
    {
      "cell_type": "markdown",
      "source": [
        "**CAPPING of OUTLIERS**"
      ],
      "metadata": {
        "id": "R-dBH1D2Wdmk"
      }
    },
    {
      "cell_type": "code",
      "source": [
        "df1 = df.copy()\n",
        "def remove_outliers_IQR(col):\n",
        "    percentile25 = df1[col].quantile(0.25)\n",
        "    percentile75 = df1[col].quantile(0.75)\n",
        "    iqr = percentile75 - percentile25\n",
        "    upper_limit = percentile75 + 1.5 * iqr\n",
        "    lower_limit = percentile25 - 1.5 * iqr\n",
        "    print(\"Upper limit\",upper_limit)\n",
        "    print(\"Lower limit\",lower_limit)\n",
        "    df1[col] = np.where(df1[col]>upper_limit, upper_limit, np.where(df1[col]<lower_limit,lower_limit,df1[col]))\n",
        "    return df1[df1[col]>upper_limit]"
      ],
      "metadata": {
        "id": "XDYWdVQnSuOI"
      },
      "execution_count": 36,
      "outputs": []
    },
    {
      "cell_type": "code",
      "source": [
        "remove_outliers_IQR('Prior_purchases')"
      ],
      "metadata": {
        "colab": {
          "base_uri": "https://localhost:8080/",
          "height": 85
        },
        "id": "qy4OqQhWd-yH",
        "outputId": "0c258bc9-69d9-4313-eb5f-450d82435356"
      },
      "execution_count": 37,
      "outputs": [
        {
          "output_type": "stream",
          "name": "stdout",
          "text": [
            "Upper limit 5.5\n",
            "Lower limit 1.5\n"
          ]
        },
        {
          "output_type": "execute_result",
          "data": {
            "text/plain": [
              "Empty DataFrame\n",
              "Columns: [Warehouse_block, Mode_of_Shipment, Customer_care_calls, Customer_rating, Cost_of_the_Product, Prior_purchases, Product_importance, Gender, Discount_offered, Weight_in_gms, Reached.on.Time_Y.N]\n",
              "Index: []"
            ],
            "text/html": [
              "\n",
              "  <div id=\"df-ee4e27f1-44b5-4ee8-ab2f-d7345d3c7a36\">\n",
              "    <div class=\"colab-df-container\">\n",
              "      <div>\n",
              "<style scoped>\n",
              "    .dataframe tbody tr th:only-of-type {\n",
              "        vertical-align: middle;\n",
              "    }\n",
              "\n",
              "    .dataframe tbody tr th {\n",
              "        vertical-align: top;\n",
              "    }\n",
              "\n",
              "    .dataframe thead th {\n",
              "        text-align: right;\n",
              "    }\n",
              "</style>\n",
              "<table border=\"1\" class=\"dataframe\">\n",
              "  <thead>\n",
              "    <tr style=\"text-align: right;\">\n",
              "      <th></th>\n",
              "      <th>Warehouse_block</th>\n",
              "      <th>Mode_of_Shipment</th>\n",
              "      <th>Customer_care_calls</th>\n",
              "      <th>Customer_rating</th>\n",
              "      <th>Cost_of_the_Product</th>\n",
              "      <th>Prior_purchases</th>\n",
              "      <th>Product_importance</th>\n",
              "      <th>Gender</th>\n",
              "      <th>Discount_offered</th>\n",
              "      <th>Weight_in_gms</th>\n",
              "      <th>Reached.on.Time_Y.N</th>\n",
              "    </tr>\n",
              "  </thead>\n",
              "  <tbody>\n",
              "  </tbody>\n",
              "</table>\n",
              "</div>\n",
              "      <button class=\"colab-df-convert\" onclick=\"convertToInteractive('df-ee4e27f1-44b5-4ee8-ab2f-d7345d3c7a36')\"\n",
              "              title=\"Convert this dataframe to an interactive table.\"\n",
              "              style=\"display:none;\">\n",
              "        \n",
              "  <svg xmlns=\"http://www.w3.org/2000/svg\" height=\"24px\"viewBox=\"0 0 24 24\"\n",
              "       width=\"24px\">\n",
              "    <path d=\"M0 0h24v24H0V0z\" fill=\"none\"/>\n",
              "    <path d=\"M18.56 5.44l.94 2.06.94-2.06 2.06-.94-2.06-.94-.94-2.06-.94 2.06-2.06.94zm-11 1L8.5 8.5l.94-2.06 2.06-.94-2.06-.94L8.5 2.5l-.94 2.06-2.06.94zm10 10l.94 2.06.94-2.06 2.06-.94-2.06-.94-.94-2.06-.94 2.06-2.06.94z\"/><path d=\"M17.41 7.96l-1.37-1.37c-.4-.4-.92-.59-1.43-.59-.52 0-1.04.2-1.43.59L10.3 9.45l-7.72 7.72c-.78.78-.78 2.05 0 2.83L4 21.41c.39.39.9.59 1.41.59.51 0 1.02-.2 1.41-.59l7.78-7.78 2.81-2.81c.8-.78.8-2.07 0-2.86zM5.41 20L4 18.59l7.72-7.72 1.47 1.35L5.41 20z\"/>\n",
              "  </svg>\n",
              "      </button>\n",
              "      \n",
              "  <style>\n",
              "    .colab-df-container {\n",
              "      display:flex;\n",
              "      flex-wrap:wrap;\n",
              "      gap: 12px;\n",
              "    }\n",
              "\n",
              "    .colab-df-convert {\n",
              "      background-color: #E8F0FE;\n",
              "      border: none;\n",
              "      border-radius: 50%;\n",
              "      cursor: pointer;\n",
              "      display: none;\n",
              "      fill: #1967D2;\n",
              "      height: 32px;\n",
              "      padding: 0 0 0 0;\n",
              "      width: 32px;\n",
              "    }\n",
              "\n",
              "    .colab-df-convert:hover {\n",
              "      background-color: #E2EBFA;\n",
              "      box-shadow: 0px 1px 2px rgba(60, 64, 67, 0.3), 0px 1px 3px 1px rgba(60, 64, 67, 0.15);\n",
              "      fill: #174EA6;\n",
              "    }\n",
              "\n",
              "    [theme=dark] .colab-df-convert {\n",
              "      background-color: #3B4455;\n",
              "      fill: #D2E3FC;\n",
              "    }\n",
              "\n",
              "    [theme=dark] .colab-df-convert:hover {\n",
              "      background-color: #434B5C;\n",
              "      box-shadow: 0px 1px 3px 1px rgba(0, 0, 0, 0.15);\n",
              "      filter: drop-shadow(0px 1px 2px rgba(0, 0, 0, 0.3));\n",
              "      fill: #FFFFFF;\n",
              "    }\n",
              "  </style>\n",
              "\n",
              "      <script>\n",
              "        const buttonEl =\n",
              "          document.querySelector('#df-ee4e27f1-44b5-4ee8-ab2f-d7345d3c7a36 button.colab-df-convert');\n",
              "        buttonEl.style.display =\n",
              "          google.colab.kernel.accessAllowed ? 'block' : 'none';\n",
              "\n",
              "        async function convertToInteractive(key) {\n",
              "          const element = document.querySelector('#df-ee4e27f1-44b5-4ee8-ab2f-d7345d3c7a36');\n",
              "          const dataTable =\n",
              "            await google.colab.kernel.invokeFunction('convertToInteractive',\n",
              "                                                     [key], {});\n",
              "          if (!dataTable) return;\n",
              "\n",
              "          const docLinkHtml = 'Like what you see? Visit the ' +\n",
              "            '<a target=\"_blank\" href=https://colab.research.google.com/notebooks/data_table.ipynb>data table notebook</a>'\n",
              "            + ' to learn more about interactive tables.';\n",
              "          element.innerHTML = '';\n",
              "          dataTable['output_type'] = 'display_data';\n",
              "          await google.colab.output.renderOutput(dataTable, element);\n",
              "          const docLink = document.createElement('div');\n",
              "          docLink.innerHTML = docLinkHtml;\n",
              "          element.appendChild(docLink);\n",
              "        }\n",
              "      </script>\n",
              "    </div>\n",
              "  </div>\n",
              "  "
            ]
          },
          "metadata": {},
          "execution_count": 37
        }
      ]
    },
    {
      "cell_type": "code",
      "source": [
        "remove_outliers_IQR('Discount_offered')"
      ],
      "metadata": {
        "colab": {
          "base_uri": "https://localhost:8080/",
          "height": 85
        },
        "id": "NXELc-MId_Pj",
        "outputId": "4ee5506d-54bb-4922-c364-955f32718e6b"
      },
      "execution_count": 38,
      "outputs": [
        {
          "output_type": "stream",
          "name": "stdout",
          "text": [
            "Upper limit 19.0\n",
            "Lower limit -5.0\n"
          ]
        },
        {
          "output_type": "execute_result",
          "data": {
            "text/plain": [
              "Empty DataFrame\n",
              "Columns: [Warehouse_block, Mode_of_Shipment, Customer_care_calls, Customer_rating, Cost_of_the_Product, Prior_purchases, Product_importance, Gender, Discount_offered, Weight_in_gms, Reached.on.Time_Y.N]\n",
              "Index: []"
            ],
            "text/html": [
              "\n",
              "  <div id=\"df-6896f08d-dcb5-448c-94c8-078d54452772\">\n",
              "    <div class=\"colab-df-container\">\n",
              "      <div>\n",
              "<style scoped>\n",
              "    .dataframe tbody tr th:only-of-type {\n",
              "        vertical-align: middle;\n",
              "    }\n",
              "\n",
              "    .dataframe tbody tr th {\n",
              "        vertical-align: top;\n",
              "    }\n",
              "\n",
              "    .dataframe thead th {\n",
              "        text-align: right;\n",
              "    }\n",
              "</style>\n",
              "<table border=\"1\" class=\"dataframe\">\n",
              "  <thead>\n",
              "    <tr style=\"text-align: right;\">\n",
              "      <th></th>\n",
              "      <th>Warehouse_block</th>\n",
              "      <th>Mode_of_Shipment</th>\n",
              "      <th>Customer_care_calls</th>\n",
              "      <th>Customer_rating</th>\n",
              "      <th>Cost_of_the_Product</th>\n",
              "      <th>Prior_purchases</th>\n",
              "      <th>Product_importance</th>\n",
              "      <th>Gender</th>\n",
              "      <th>Discount_offered</th>\n",
              "      <th>Weight_in_gms</th>\n",
              "      <th>Reached.on.Time_Y.N</th>\n",
              "    </tr>\n",
              "  </thead>\n",
              "  <tbody>\n",
              "  </tbody>\n",
              "</table>\n",
              "</div>\n",
              "      <button class=\"colab-df-convert\" onclick=\"convertToInteractive('df-6896f08d-dcb5-448c-94c8-078d54452772')\"\n",
              "              title=\"Convert this dataframe to an interactive table.\"\n",
              "              style=\"display:none;\">\n",
              "        \n",
              "  <svg xmlns=\"http://www.w3.org/2000/svg\" height=\"24px\"viewBox=\"0 0 24 24\"\n",
              "       width=\"24px\">\n",
              "    <path d=\"M0 0h24v24H0V0z\" fill=\"none\"/>\n",
              "    <path d=\"M18.56 5.44l.94 2.06.94-2.06 2.06-.94-2.06-.94-.94-2.06-.94 2.06-2.06.94zm-11 1L8.5 8.5l.94-2.06 2.06-.94-2.06-.94L8.5 2.5l-.94 2.06-2.06.94zm10 10l.94 2.06.94-2.06 2.06-.94-2.06-.94-.94-2.06-.94 2.06-2.06.94z\"/><path d=\"M17.41 7.96l-1.37-1.37c-.4-.4-.92-.59-1.43-.59-.52 0-1.04.2-1.43.59L10.3 9.45l-7.72 7.72c-.78.78-.78 2.05 0 2.83L4 21.41c.39.39.9.59 1.41.59.51 0 1.02-.2 1.41-.59l7.78-7.78 2.81-2.81c.8-.78.8-2.07 0-2.86zM5.41 20L4 18.59l7.72-7.72 1.47 1.35L5.41 20z\"/>\n",
              "  </svg>\n",
              "      </button>\n",
              "      \n",
              "  <style>\n",
              "    .colab-df-container {\n",
              "      display:flex;\n",
              "      flex-wrap:wrap;\n",
              "      gap: 12px;\n",
              "    }\n",
              "\n",
              "    .colab-df-convert {\n",
              "      background-color: #E8F0FE;\n",
              "      border: none;\n",
              "      border-radius: 50%;\n",
              "      cursor: pointer;\n",
              "      display: none;\n",
              "      fill: #1967D2;\n",
              "      height: 32px;\n",
              "      padding: 0 0 0 0;\n",
              "      width: 32px;\n",
              "    }\n",
              "\n",
              "    .colab-df-convert:hover {\n",
              "      background-color: #E2EBFA;\n",
              "      box-shadow: 0px 1px 2px rgba(60, 64, 67, 0.3), 0px 1px 3px 1px rgba(60, 64, 67, 0.15);\n",
              "      fill: #174EA6;\n",
              "    }\n",
              "\n",
              "    [theme=dark] .colab-df-convert {\n",
              "      background-color: #3B4455;\n",
              "      fill: #D2E3FC;\n",
              "    }\n",
              "\n",
              "    [theme=dark] .colab-df-convert:hover {\n",
              "      background-color: #434B5C;\n",
              "      box-shadow: 0px 1px 3px 1px rgba(0, 0, 0, 0.15);\n",
              "      filter: drop-shadow(0px 1px 2px rgba(0, 0, 0, 0.3));\n",
              "      fill: #FFFFFF;\n",
              "    }\n",
              "  </style>\n",
              "\n",
              "      <script>\n",
              "        const buttonEl =\n",
              "          document.querySelector('#df-6896f08d-dcb5-448c-94c8-078d54452772 button.colab-df-convert');\n",
              "        buttonEl.style.display =\n",
              "          google.colab.kernel.accessAllowed ? 'block' : 'none';\n",
              "\n",
              "        async function convertToInteractive(key) {\n",
              "          const element = document.querySelector('#df-6896f08d-dcb5-448c-94c8-078d54452772');\n",
              "          const dataTable =\n",
              "            await google.colab.kernel.invokeFunction('convertToInteractive',\n",
              "                                                     [key], {});\n",
              "          if (!dataTable) return;\n",
              "\n",
              "          const docLinkHtml = 'Like what you see? Visit the ' +\n",
              "            '<a target=\"_blank\" href=https://colab.research.google.com/notebooks/data_table.ipynb>data table notebook</a>'\n",
              "            + ' to learn more about interactive tables.';\n",
              "          element.innerHTML = '';\n",
              "          dataTable['output_type'] = 'display_data';\n",
              "          await google.colab.output.renderOutput(dataTable, element);\n",
              "          const docLink = document.createElement('div');\n",
              "          docLink.innerHTML = docLinkHtml;\n",
              "          element.appendChild(docLink);\n",
              "        }\n",
              "      </script>\n",
              "    </div>\n",
              "  </div>\n",
              "  "
            ]
          },
          "metadata": {},
          "execution_count": 38
        }
      ]
    },
    {
      "cell_type": "code",
      "source": [
        "attributes= [\"Warehouse_block\",\"Customer_care_calls\",\n",
        "             \"Customer_rating\",\"Cost_of_the_Product\",\n",
        "             \"Prior_purchases\",\"Product_importance\",\n",
        "             \"Gender\",\"Discount_offered\",\"Weight_in_gms\"]\n",
        "plt.figure(figsize=(15,10))\n",
        "for i,j in zip(range(1,10),attributes):\n",
        "    plt.subplot(4,4,i)\n",
        "    sns.boxplot(data=df1, x=j)\n",
        "    plt.tight_layout()\n",
        "    sns.set_theme()\n",
        "    plt.title('Boxplot of {}'.format(j))"
      ],
      "metadata": {
        "colab": {
          "base_uri": "https://localhost:8080/",
          "height": 794
        },
        "id": "iaYzow1DeSYt",
        "outputId": "78507e79-17f3-4dd2-b877-21475f02fb8b"
      },
      "execution_count": 39,
      "outputs": [
        {
          "output_type": "display_data",
          "data": {
            "text/plain": [
              "<Figure size 1500x1000 with 9 Axes>"
            ],
            "image/png": "[encoded data removed]"
          },
          "metadata": {}
        }
      ]
    },
    {
      "cell_type": "code",
      "source": [
        "X=df1.drop(columns=['Reached.on.Time_Y.N'])\n",
        "X"
      ],
      "metadata": {
        "colab": {
          "base_uri": "https://localhost:8080/",
          "height": 423
        },
        "id": "4Ylk1sgueZyJ",
        "outputId": "0e81da9f-196e-44c9-bfc1-1bca0d08af9c"
      },
      "execution_count": 40,
      "outputs": [
        {
          "output_type": "execute_result",
          "data": {
            "text/plain": [
              "       Warehouse_block  Mode_of_Shipment  Customer_care_calls  \\\n",
              "0                    3                 0                    4   \n",
              "1                    4                 0                    4   \n",
              "2                    0                 0                    2   \n",
              "3                    1                 0                    3   \n",
              "4                    2                 0                    2   \n",
              "...                ...               ...                  ...   \n",
              "10994                0                 2                    4   \n",
              "10995                1                 2                    4   \n",
              "10996                2                 2                    5   \n",
              "10997                4                 2                    5   \n",
              "10998                3                 2                    2   \n",
              "\n",
              "       Customer_rating  Cost_of_the_Product  Prior_purchases  \\\n",
              "0                    2                  177              3.0   \n",
              "1                    5                  216              2.0   \n",
              "2                    2                  183              4.0   \n",
              "3                    3                  176              4.0   \n",
              "4                    2                  184              3.0   \n",
              "...                ...                  ...              ...   \n",
              "10994                1                  252              5.0   \n",
              "10995                1                  232              5.0   \n",
              "10996                4                  242              5.0   \n",
              "10997                2                  223              5.5   \n",
              "10998                5                  155              5.0   \n",
              "\n",
              "       Product_importance  Gender  Discount_offered  Weight_in_gms  \n",
              "0                       1       0              19.0           1233  \n",
              "1                       1       1              19.0           3088  \n",
              "2                       1       1              19.0           3374  \n",
              "3                       2       1              10.0           1177  \n",
              "4                       2       0              19.0           2484  \n",
              "...                   ...     ...               ...            ...  \n",
              "10994                   2       0               1.0           1538  \n",
              "10995                   2       0               6.0           1247  \n",
              "10996                   1       0               4.0           1155  \n",
              "10997                   2       1               2.0           1210  \n",
              "10998                   1       0               6.0           1639  \n",
              "\n",
              "[10999 rows x 10 columns]"
            ],
            "text/html": [
              "\n",
              "  <div id=\"df-031e2836-d1e9-4b39-a5b9-d691081d8d3e\">\n",
              "    <div class=\"colab-df-container\">\n",
              "      <div>\n",
              "<style scoped>\n",
              "    .dataframe tbody tr th:only-of-type {\n",
              "        vertical-align: middle;\n",
              "    }\n",
              "\n",
              "    .dataframe tbody tr th {\n",
              "        vertical-align: top;\n",
              "    }\n",
              "\n",
              "    .dataframe thead th {\n",
              "        text-align: right;\n",
              "    }\n",
              "</style>\n",
              "<table border=\"1\" class=\"dataframe\">\n",
              "  <thead>\n",
              "    <tr style=\"text-align: right;\">\n",
              "      <th></th>\n",
              "      <th>Warehouse_block</th>\n",
              "      <th>Mode_of_Shipment</th>\n",
              "      <th>Customer_care_calls</th>\n",
              "      <th>Customer_rating</th>\n",
              "      <th>Cost_of_the_Product</th>\n",
              "      <th>Prior_purchases</th>\n",
              "      <th>Product_importance</th>\n",
              "      <th>Gender</th>\n",
              "      <th>Discount_offered</th>\n",
              "      <th>Weight_in_gms</th>\n",
              "    </tr>\n",
              "  </thead>\n",
              "  <tbody>\n",
              "    <tr>\n",
              "      <th>0</th>\n",
              "      <td>3</td>\n",
              "      <td>0</td>\n",
              "      <td>4</td>\n",
              "      <td>2</td>\n",
              "      <td>177</td>\n",
              "      <td>3.0</td>\n",
              "      <td>1</td>\n",
              "      <td>0</td>\n",
              "      <td>19.0</td>\n",
              "      <td>1233</td>\n",
              "    </tr>\n",
              "    <tr>\n",
              "      <th>1</th>\n",
              "      <td>4</td>\n",
              "      <td>0</td>\n",
              "      <td>4</td>\n",
              "      <td>5</td>\n",
              "      <td>216</td>\n",
              "      <td>2.0</td>\n",
              "      <td>1</td>\n",
              "      <td>1</td>\n",
              "      <td>19.0</td>\n",
              "      <td>3088</td>\n",
              "    </tr>\n",
              "    <tr>\n",
              "      <th>2</th>\n",
              "      <td>0</td>\n",
              "      <td>0</td>\n",
              "      <td>2</td>\n",
              "      <td>2</td>\n",
              "      <td>183</td>\n",
              "      <td>4.0</td>\n",
              "      <td>1</td>\n",
              "      <td>1</td>\n",
              "      <td>19.0</td>\n",
              "      <td>3374</td>\n",
              "    </tr>\n",
              "    <tr>\n",
              "      <th>3</th>\n",
              "      <td>1</td>\n",
              "      <td>0</td>\n",
              "      <td>3</td>\n",
              "      <td>3</td>\n",
              "      <td>176</td>\n",
              "      <td>4.0</td>\n",
              "      <td>2</td>\n",
              "      <td>1</td>\n",
              "      <td>10.0</td>\n",
              "      <td>1177</td>\n",
              "    </tr>\n",
              "    <tr>\n",
              "      <th>4</th>\n",
              "      <td>2</td>\n",
              "      <td>0</td>\n",
              "      <td>2</td>\n",
              "      <td>2</td>\n",
              "      <td>184</td>\n",
              "      <td>3.0</td>\n",
              "      <td>2</td>\n",
              "      <td>0</td>\n",
              "      <td>19.0</td>\n",
              "      <td>2484</td>\n",
              "    </tr>\n",
              "    <tr>\n",
              "      <th>...</th>\n",
              "      <td>...</td>\n",
              "      <td>...</td>\n",
              "      <td>...</td>\n",
              "      <td>...</td>\n",
              "      <td>...</td>\n",
              "      <td>...</td>\n",
              "      <td>...</td>\n",
              "      <td>...</td>\n",
              "      <td>...</td>\n",
              "      <td>...</td>\n",
              "    </tr>\n",
              "    <tr>\n",
              "      <th>10994</th>\n",
              "      <td>0</td>\n",
              "      <td>2</td>\n",
              "      <td>4</td>\n",
              "      <td>1</td>\n",
              "      <td>252</td>\n",
              "      <td>5.0</td>\n",
              "      <td>2</td>\n",
              "      <td>0</td>\n",
              "      <td>1.0</td>\n",
              "      <td>1538</td>\n",
              "    </tr>\n",
              "    <tr>\n",
              "      <th>10995</th>\n",
              "      <td>1</td>\n",
              "      <td>2</td>\n",
              "      <td>4</td>\n",
              "      <td>1</td>\n",
              "      <td>232</td>\n",
              "      <td>5.0</td>\n",
              "      <td>2</td>\n",
              "      <td>0</td>\n",
              "      <td>6.0</td>\n",
              "      <td>1247</td>\n",
              "    </tr>\n",
              "    <tr>\n",
              "      <th>10996</th>\n",
              "      <td>2</td>\n",
              "      <td>2</td>\n",
              "      <td>5</td>\n",
              "      <td>4</td>\n",
              "      <td>242</td>\n",
              "      <td>5.0</td>\n",
              "      <td>1</td>\n",
              "      <td>0</td>\n",
              "      <td>4.0</td>\n",
              "      <td>1155</td>\n",
              "    </tr>\n",
              "    <tr>\n",
              "      <th>10997</th>\n",
              "      <td>4</td>\n",
              "      <td>2</td>\n",
              "      <td>5</td>\n",
              "      <td>2</td>\n",
              "      <td>223</td>\n",
              "      <td>5.5</td>\n",
              "      <td>2</td>\n",
              "      <td>1</td>\n",
              "      <td>2.0</td>\n",
              "      <td>1210</td>\n",
              "    </tr>\n",
              "    <tr>\n",
              "      <th>10998</th>\n",
              "      <td>3</td>\n",
              "      <td>2</td>\n",
              "      <td>2</td>\n",
              "      <td>5</td>\n",
              "      <td>155</td>\n",
              "      <td>5.0</td>\n",
              "      <td>1</td>\n",
              "      <td>0</td>\n",
              "      <td>6.0</td>\n",
              "      <td>1639</td>\n",
              "    </tr>\n",
              "  </tbody>\n",
              "</table>\n",
              "<p>10999 rows × 10 columns</p>\n",
              "</div>\n",
              "      <button class=\"colab-df-convert\" onclick=\"convertToInteractive('df-031e2836-d1e9-4b39-a5b9-d691081d8d3e')\"\n",
              "              title=\"Convert this dataframe to an interactive table.\"\n",
              "              style=\"display:none;\">\n",
              "        \n",
              "  <svg xmlns=\"http://www.w3.org/2000/svg\" height=\"24px\"viewBox=\"0 0 24 24\"\n",
              "       width=\"24px\">\n",
              "    <path d=\"M0 0h24v24H0V0z\" fill=\"none\"/>\n",
              "    <path d=\"M18.56 5.44l.94 2.06.94-2.06 2.06-.94-2.06-.94-.94-2.06-.94 2.06-2.06.94zm-11 1L8.5 8.5l.94-2.06 2.06-.94-2.06-.94L8.5 2.5l-.94 2.06-2.06.94zm10 10l.94 2.06.94-2.06 2.06-.94-2.06-.94-.94-2.06-.94 2.06-2.06.94z\"/><path d=\"M17.41 7.96l-1.37-1.37c-.4-.4-.92-.59-1.43-.59-.52 0-1.04.2-1.43.59L10.3 9.45l-7.72 7.72c-.78.78-.78 2.05 0 2.83L4 21.41c.39.39.9.59 1.41.59.51 0 1.02-.2 1.41-.59l7.78-7.78 2.81-2.81c.8-.78.8-2.07 0-2.86zM5.41 20L4 18.59l7.72-7.72 1.47 1.35L5.41 20z\"/>\n",
              "  </svg>\n",
              "      </button>\n",
              "      \n",
              "  <style>\n",
              "    .colab-df-container {\n",
              "      display:flex;\n",
              "      flex-wrap:wrap;\n",
              "      gap: 12px;\n",
              "    }\n",
              "\n",
              "    .colab-df-convert {\n",
              "      background-color: #E8F0FE;\n",
              "      border: none;\n",
              "      border-radius: 50%;\n",
              "      cursor: pointer;\n",
              "      display: none;\n",
              "      fill: #1967D2;\n",
              "      height: 32px;\n",
              "      padding: 0 0 0 0;\n",
              "      width: 32px;\n",
              "    }\n",
              "\n",
              "    .colab-df-convert:hover {\n",
              "      background-color: #E2EBFA;\n",
              "      box-shadow: 0px 1px 2px rgba(60, 64, 67, 0.3), 0px 1px 3px 1px rgba(60, 64, 67, 0.15);\n",
              "      fill: #174EA6;\n",
              "    }\n",
              "\n",
              "    [theme=dark] .colab-df-convert {\n",
              "      background-color: #3B4455;\n",
              "      fill: #D2E3FC;\n",
              "    }\n",
              "\n",
              "    [theme=dark] .colab-df-convert:hover {\n",
              "      background-color: #434B5C;\n",
              "      box-shadow: 0px 1px 3px 1px rgba(0, 0, 0, 0.15);\n",
              "      filter: drop-shadow(0px 1px 2px rgba(0, 0, 0, 0.3));\n",
              "      fill: #FFFFFF;\n",
              "    }\n",
              "  </style>\n",
              "\n",
              "      <script>\n",
              "        const buttonEl =\n",
              "          document.querySelector('#df-031e2836-d1e9-4b39-a5b9-d691081d8d3e button.colab-df-convert');\n",
              "        buttonEl.style.display =\n",
              "          google.colab.kernel.accessAllowed ? 'block' : 'none';\n",
              "\n",
              "        async function convertToInteractive(key) {\n",
              "          const element = document.querySelector('#df-031e2836-d1e9-4b39-a5b9-d691081d8d3e');\n",
              "          const dataTable =\n",
              "            await google.colab.kernel.invokeFunction('convertToInteractive',\n",
              "                                                     [key], {});\n",
              "          if (!dataTable) return;\n",
              "\n",
              "          const docLinkHtml = 'Like what you see? Visit the ' +\n",
              "            '<a target=\"_blank\" href=https://colab.research.google.com/notebooks/data_table.ipynb>data table notebook</a>'\n",
              "            + ' to learn more about interactive tables.';\n",
              "          element.innerHTML = '';\n",
              "          dataTable['output_type'] = 'display_data';\n",
              "          await google.colab.output.renderOutput(dataTable, element);\n",
              "          const docLink = document.createElement('div');\n",
              "          docLink.innerHTML = docLinkHtml;\n",
              "          element.appendChild(docLink);\n",
              "        }\n",
              "      </script>\n",
              "    </div>\n",
              "  </div>\n",
              "  "
            ]
          },
          "metadata": {},
          "execution_count": 40
        }
      ]
    },
    {
      "cell_type": "code",
      "source": [
        "y=df1['Reached.on.Time_Y.N']\n",
        "y"
      ],
      "metadata": {
        "colab": {
          "base_uri": "https://localhost:8080/"
        },
        "id": "aW0mMJ5Hemug",
        "outputId": "8f522c5f-abac-4232-a82e-006e0409b869"
      },
      "execution_count": 41,
      "outputs": [
        {
          "output_type": "execute_result",
          "data": {
            "text/plain": [
              "0        1\n",
              "1        1\n",
              "2        1\n",
              "3        1\n",
              "4        1\n",
              "        ..\n",
              "10994    1\n",
              "10995    0\n",
              "10996    0\n",
              "10997    0\n",
              "10998    0\n",
              "Name: Reached.on.Time_Y.N, Length: 10999, dtype: int64"
            ]
          },
          "metadata": {},
          "execution_count": 41
        }
      ]
    },
    {
      "cell_type": "code",
      "source": [
        "df1['Reached.on.Time_Y.N'].value_counts()"
      ],
      "metadata": {
        "colab": {
          "base_uri": "https://localhost:8080/"
        },
        "id": "lEzXKe_5laAe",
        "outputId": "8f5bfb28-2cae-47f8-8b2d-d16edb13481a"
      },
      "execution_count": 42,
      "outputs": [
        {
          "output_type": "execute_result",
          "data": {
            "text/plain": [
              "1    6563\n",
              "0    4436\n",
              "Name: Reached.on.Time_Y.N, dtype: int64"
            ]
          },
          "metadata": {},
          "execution_count": 42
        }
      ]
    },
    {
      "cell_type": "code",
      "source": [
        "Xtrain_out,Xtest_out,Ytrain_out,Ytest_out=train_test_split(X,y,test_size=0.3,random_state=1)"
      ],
      "metadata": {
        "id": "_0XOClX2ew3i"
      },
      "execution_count": 43,
      "outputs": []
    },
    {
      "cell_type": "code",
      "source": [
        "sc=StandardScaler()\n",
        "Xtrain_out=sc.fit_transform(Xtrain_out)\n",
        "Xtest_out=sc.transform(Xtest_out)"
      ],
      "metadata": {
        "id": "HMUYX1cefFA6"
      },
      "execution_count": 44,
      "outputs": []
    },
    {
      "cell_type": "code",
      "source": [
        "Rfc=RandomForestClassifier(n_estimators=25,criterion='entropy')\n",
        "Knn=KNeighborsClassifier(n_neighbors=3)\n",
        "Sv=SVC(kernel='rbf')\n",
        "Nb=BernoulliNB()\n",
        "lst=[Knn,Sv,Nb,Rfc]\n",
        "score3=[]\n",
        "for i in lst:\n",
        "  print('*'*100)\n",
        "  i.fit(Xtrain_out,Ytrain_out)\n",
        "  ypred_out=i.predict(Xtest_out)\n",
        "  print('Accuracy Score of',i,accuracy_score(ypred_out,Ytest_out)*100)\n",
        "  model_score=accuracy_score(ypred_out,Ytest_out)*100\n",
        "  score3.append(model_score)"
      ],
      "metadata": {
        "colab": {
          "base_uri": "https://localhost:8080/"
        },
        "id": "Tk5-daSngYhI",
        "outputId": "5936ffd1-7dba-4f52-ccd8-6c3185a4dab4"
      },
      "execution_count": 45,
      "outputs": [
        {
          "output_type": "stream",
          "name": "stdout",
          "text": [
            "****************************************************************************************************\n",
            "Accuracy Score of KNeighborsClassifier(n_neighbors=3) 64.15151515151514\n",
            "****************************************************************************************************\n",
            "Accuracy Score of SVC() 66.6969696969697\n",
            "****************************************************************************************************\n",
            "Accuracy Score of BernoulliNB() 65.87878787878788\n",
            "****************************************************************************************************\n",
            "Accuracy Score of RandomForestClassifier(criterion='entropy', n_estimators=25) 64.24242424242425\n"
          ]
        }
      ]
    },
    {
      "cell_type": "code",
      "source": [
        "Algorithm_Used=[\"KNN\",'SVM','NAIVE BAYES','RANDOM FOREST']\n",
        "Accuracy3=score3\n",
        "data1=pd.DataFrame({'Algorithm':Algorithm_Used,'Accuracy':Accuracy},index=[1,2,3,4])\n",
        "data1.style.highlight_max(subset='Accuracy',color='red')"
      ],
      "metadata": {
        "colab": {
          "base_uri": "https://localhost:8080/",
          "height": 174
        },
        "id": "V2RSz1z_hg3b",
        "outputId": "d2b799d1-6710-4ecf-ab86-42413fd10fb8"
      },
      "execution_count": 46,
      "outputs": [
        {
          "output_type": "execute_result",
          "data": {
            "text/plain": [
              "<pandas.io.formats.style.Styler at 0x7f56b1b2dc10>"
            ],
            "text/html": [
              "<style type=\"text/css\">\n",
              "#T_077b6_row2_col1 {\n",
              "  background-color: red;\n",
              "}\n",
              "</style>\n",
              "<table id=\"T_077b6\" class=\"dataframe\">\n",
              "  <thead>\n",
              "    <tr>\n",
              "      <th class=\"blank level0\" >&nbsp;</th>\n",
              "      <th id=\"T_077b6_level0_col0\" class=\"col_heading level0 col0\" >Algorithm</th>\n",
              "      <th id=\"T_077b6_level0_col1\" class=\"col_heading level0 col1\" >Accuracy</th>\n",
              "    </tr>\n",
              "  </thead>\n",
              "  <tbody>\n",
              "    <tr>\n",
              "      <th id=\"T_077b6_level0_row0\" class=\"row_heading level0 row0\" >1</th>\n",
              "      <td id=\"T_077b6_row0_col0\" class=\"data row0 col0\" >KNN</td>\n",
              "      <td id=\"T_077b6_row0_col1\" class=\"data row0 col1\" >64.272727</td>\n",
              "    </tr>\n",
              "    <tr>\n",
              "      <th id=\"T_077b6_level0_row1\" class=\"row_heading level0 row1\" >2</th>\n",
              "      <td id=\"T_077b6_row1_col0\" class=\"data row1 col0\" >SVM</td>\n",
              "      <td id=\"T_077b6_row1_col1\" class=\"data row1 col1\" >67.212121</td>\n",
              "    </tr>\n",
              "    <tr>\n",
              "      <th id=\"T_077b6_level0_row2\" class=\"row_heading level0 row2\" >3</th>\n",
              "      <td id=\"T_077b6_row2_col0\" class=\"data row2 col0\" >NAIVE BAYES</td>\n",
              "      <td id=\"T_077b6_row2_col1\" class=\"data row2 col1\" >68.181818</td>\n",
              "    </tr>\n",
              "    <tr>\n",
              "      <th id=\"T_077b6_level0_row3\" class=\"row_heading level0 row3\" >4</th>\n",
              "      <td id=\"T_077b6_row3_col0\" class=\"data row3 col0\" >RANDOM FOREST</td>\n",
              "      <td id=\"T_077b6_row3_col1\" class=\"data row3 col1\" >65.000000</td>\n",
              "    </tr>\n",
              "  </tbody>\n",
              "</table>\n"
            ]
          },
          "metadata": {},
          "execution_count": 46
        }
      ]
    },
    {
      "cell_type": "markdown",
      "source": [
        "**Comapring The Accuracy score of Different Algorithms**"
      ],
      "metadata": {
        "id": "5Ls0l66YjRSu"
      }
    },
    {
      "cell_type": "code",
      "source": [
        "Algorithm=['Knn','Svm','Naive','Random Forest']\n",
        "Accuracy=score\n",
        "Accuracy1=score1\n",
        "Accuracy2=score2\n",
        "Accuracy3=score3\n",
        "Data1=pd.DataFrame({'Algorithm':Algorithm,'Accuracy':Accuracy,'Balancing':Accuracy1,'PCA':Accuracy2,'Outlier':Accuracy3},index=[1,2,3,4])\n",
        "Data1.style.highlight_max(subset='Balancing',color='green')"
      ],
      "metadata": {
        "colab": {
          "base_uri": "https://localhost:8080/",
          "height": 174
        },
        "id": "4u6PkzHanz9t",
        "outputId": "b159271d-e4d9-4f40-960e-624a028c1f30"
      },
      "execution_count": 47,
      "outputs": [
        {
          "output_type": "execute_result",
          "data": {
            "text/plain": [
              "<pandas.io.formats.style.Styler at 0x7f56b1b441f0>"
            ],
            "text/html": [
              "<style type=\"text/css\">\n",
              "#T_7b0d2_row0_col2 {\n",
              "  background-color: green;\n",
              "}\n",
              "</style>\n",
              "<table id=\"T_7b0d2\" class=\"dataframe\">\n",
              "  <thead>\n",
              "    <tr>\n",
              "      <th class=\"blank level0\" >&nbsp;</th>\n",
              "      <th id=\"T_7b0d2_level0_col0\" class=\"col_heading level0 col0\" >Algorithm</th>\n",
              "      <th id=\"T_7b0d2_level0_col1\" class=\"col_heading level0 col1\" >Accuracy</th>\n",
              "      <th id=\"T_7b0d2_level0_col2\" class=\"col_heading level0 col2\" >Balancing</th>\n",
              "      <th id=\"T_7b0d2_level0_col3\" class=\"col_heading level0 col3\" >PCA</th>\n",
              "      <th id=\"T_7b0d2_level0_col4\" class=\"col_heading level0 col4\" >Outlier</th>\n",
              "    </tr>\n",
              "  </thead>\n",
              "  <tbody>\n",
              "    <tr>\n",
              "      <th id=\"T_7b0d2_level0_row0\" class=\"row_heading level0 row0\" >1</th>\n",
              "      <td id=\"T_7b0d2_row0_col0\" class=\"data row0 col0\" >Knn</td>\n",
              "      <td id=\"T_7b0d2_row0_col1\" class=\"data row0 col1\" >64.272727</td>\n",
              "      <td id=\"T_7b0d2_row0_col2\" class=\"data row0 col2\" >95.791805</td>\n",
              "      <td id=\"T_7b0d2_row0_col3\" class=\"data row0 col3\" >63.121212</td>\n",
              "      <td id=\"T_7b0d2_row0_col4\" class=\"data row0 col4\" >64.151515</td>\n",
              "    </tr>\n",
              "    <tr>\n",
              "      <th id=\"T_7b0d2_level0_row1\" class=\"row_heading level0 row1\" >2</th>\n",
              "      <td id=\"T_7b0d2_row1_col0\" class=\"data row1 col0\" >Svm</td>\n",
              "      <td id=\"T_7b0d2_row1_col1\" class=\"data row1 col1\" >67.212121</td>\n",
              "      <td id=\"T_7b0d2_row1_col2\" class=\"data row1 col2\" >94.352159</td>\n",
              "      <td id=\"T_7b0d2_row1_col3\" class=\"data row1 col3\" >66.424242</td>\n",
              "      <td id=\"T_7b0d2_row1_col4\" class=\"data row1 col4\" >66.696970</td>\n",
              "    </tr>\n",
              "    <tr>\n",
              "      <th id=\"T_7b0d2_level0_row2\" class=\"row_heading level0 row2\" >3</th>\n",
              "      <td id=\"T_7b0d2_row2_col0\" class=\"data row2 col0\" >Naive</td>\n",
              "      <td id=\"T_7b0d2_row2_col1\" class=\"data row2 col1\" >68.181818</td>\n",
              "      <td id=\"T_7b0d2_row2_col2\" class=\"data row2 col2\" >93.410853</td>\n",
              "      <td id=\"T_7b0d2_row2_col3\" class=\"data row2 col3\" >65.424242</td>\n",
              "      <td id=\"T_7b0d2_row2_col4\" class=\"data row2 col4\" >65.878788</td>\n",
              "    </tr>\n",
              "    <tr>\n",
              "      <th id=\"T_7b0d2_level0_row3\" class=\"row_heading level0 row3\" >4</th>\n",
              "      <td id=\"T_7b0d2_row3_col0\" class=\"data row3 col0\" >Random Forest</td>\n",
              "      <td id=\"T_7b0d2_row3_col1\" class=\"data row3 col1\" >65.000000</td>\n",
              "      <td id=\"T_7b0d2_row3_col2\" class=\"data row3 col2\" >95.514950</td>\n",
              "      <td id=\"T_7b0d2_row3_col3\" class=\"data row3 col3\" >64.757576</td>\n",
              "      <td id=\"T_7b0d2_row3_col4\" class=\"data row3 col4\" >64.242424</td>\n",
              "    </tr>\n",
              "  </tbody>\n",
              "</table>\n"
            ]
          },
          "metadata": {},
          "execution_count": 47
        }
      ]
    },
    {
      "cell_type": "markdown",
      "source": [
        "By creating different **ML models** using KNN,SVM,Naive Bayes and RandomForestClassifier we have found that the **RandomForestClassifier** yeilds the higher accuracy score of **96.204620**"
      ],
      "metadata": {
        "id": "wBZ9UmywjeUJ"
      }
    }
  ]
}